{
 "cells": [
  {
   "cell_type": "code",
   "execution_count": 3,
   "metadata": {
    "_kg_hide-output": true,
    "id": "-dUPRjBHmTn9"
   },
   "outputs": [
    {
     "name": "stdout",
     "output_type": "stream",
     "text": [
      "Requirement already satisfied: tensorflow-addons==0.11.1 in /opt/conda/lib/python3.7/site-packages (0.11.1)\n",
      "Requirement already satisfied: typeguard>=2.7 in /opt/conda/lib/python3.7/site-packages (from tensorflow-addons==0.11.1) (2.9.1)\n",
      "\u001b[33mWARNING: You are using pip version 20.2.2; however, version 20.2.3 is available.\n",
      "You should consider upgrading via the '/opt/conda/bin/python3.7 -m pip install --upgrade pip' command.\u001b[0m\n"
     ]
    }
   ],
   "source": [
    "!pip install tensorflow-addons==0.11.1"
   ]
  },
  {
   "cell_type": "code",
   "execution_count": 4,
   "metadata": {
    "id": "Rm0VkEf5nRTZ"
   },
   "outputs": [],
   "source": [
    "import numpy as np \n",
    "import matplotlib.pyplot as plt\n",
    "\n",
    "import tensorflow_addons as tfa\n",
    "import tensorflow as tf\n",
    "from tensorflow.keras.models import Model\n",
    "from tensorflow.keras.applications import EfficientNetB4\n",
    "from tensorflow.keras import layers\n",
    "from tensorflow.keras.layers.experimental import preprocessing\n",
    "from tensorflow.keras.optimizers import Adam\n",
    "import random\n",
    "\n",
    "from tensorflow.keras.preprocessing.image import ImageDataGenerator\n",
    "from tensorflow.keras.callbacks import ReduceLROnPlateau, ModelCheckpoint\n",
    "\n",
    "from sklearn.utils import class_weight as cw"
   ]
  },
  {
   "cell_type": "code",
   "execution_count": 5,
   "metadata": {},
   "outputs": [
    {
     "data": {
      "text/plain": [
       "'2.3.0'"
      ]
     },
     "execution_count": 5,
     "metadata": {},
     "output_type": "execute_result"
    }
   ],
   "source": [
    "tf.__version__"
   ]
  },
  {
   "cell_type": "code",
   "execution_count": 6,
   "metadata": {
    "id": "9ELkU40gnUds"
   },
   "outputs": [],
   "source": [
    "batch_size = 16\n",
    "original_img_size = (256, 2600)\n",
    "model_img_height = 256\n",
    "model_img_width = 512\n",
    "seed = 0\n",
    "storage_dir = '../input/birdmel/train_img_final/train_img_final'\n",
    "AUTOTUNE = tf.data.experimental.AUTOTUNE\n",
    "crop_height = model_img_height\n",
    "crop_width = model_img_width"
   ]
  },
  {
   "cell_type": "code",
   "execution_count": 7,
   "metadata": {},
   "outputs": [
    {
     "name": "stdout",
     "output_type": "stream",
     "text": [
      "Found 72956 files belonging to 265 classes.\n",
      "Using 65661 files for training.\n",
      "Found 72956 files belonging to 265 classes.\n",
      "Using 7295 files for validation.\n"
     ]
    }
   ],
   "source": [
    "train_ds = tf.keras.preprocessing.image_dataset_from_directory(\n",
    "    storage_dir,\n",
    "    validation_split=0.1,\n",
    "    subset=\"training\",\n",
    "    seed=seed,\n",
    "    image_size=original_img_size,\n",
    "    batch_size=batch_size,\n",
    "    label_mode='categorical'\n",
    ")\n",
    "\n",
    "val_ds = tf.keras.preprocessing.image_dataset_from_directory(\n",
    "    storage_dir,\n",
    "    validation_split=0.1,\n",
    "    subset=\"validation\",\n",
    "    seed=seed,\n",
    "    image_size=original_img_size,\n",
    "    batch_size=batch_size,\n",
    "    label_mode='categorical',\n",
    ")"
   ]
  },
  {
   "cell_type": "code",
   "execution_count": 8,
   "metadata": {},
   "outputs": [],
   "source": [
    "def build_model(num_classes, img_width=model_img_width, img_height=model_img_height):\n",
    "    inputs = layers.Input(shape=(img_height, img_width, 3))\n",
    "    model = EfficientNetB4(include_top=False, input_tensor=inputs)\n",
    "\n",
    "    x = layers.GlobalMaxPooling2D(name=\"max_pool\")(model.output)\n",
    "    x = layers.BatchNormalization()(x)\n",
    "\n",
    "    top_dropout_rate = 0.5\n",
    "    x = layers.Dropout(top_dropout_rate, name=\"top_dropout\")(x)\n",
    "    outputs = layers.Dense(num_classes, activation=\"softmax\", name=\"pred\")(x)\n",
    "\n",
    "    model = tf.keras.Model(inputs, outputs, name=\"EfficientNet\")\n",
    "    model.compile(\n",
    "        optimizer=Adam(learning_rate=1e-3), \n",
    "        loss=\"categorical_crossentropy\", \n",
    "        metrics=[tfa.metrics.F1Score(num_classes = class_num, average = 'micro')]\n",
    "    )\n",
    "\n",
    "    return model"
   ]
  },
  {
   "cell_type": "code",
   "execution_count": 9,
   "metadata": {},
   "outputs": [],
   "source": [
    "random_crop_layer = preprocessing.RandomCrop(crop_height, crop_width)\n",
    "random_contrast_layer = preprocessing.RandomContrast(factor=0.15)\n",
    "random_translate_layer = preprocessing.RandomTranslation(height_factor=0, width_factor=0.15, fill_mode='constant')\n",
    "rescale_layer = preprocessing.Rescaling(scale=1./255)\n",
    "\n",
    "def resize(images, height=model_img_height, width=model_img_width):\n",
    "    return tf.image.resize_with_crop_or_pad(images, target_height=height, target_width=width)\n",
    "\n",
    "def random_mask(images, time_mask_length=40, freq_mask_length=20):\n",
    "    images = tfa.image.random_cutout(\n",
    "        images,\n",
    "        mask_size=(model_img_height*3, time_mask_length)\n",
    "    )\n",
    "    \n",
    "    images = tfa.image.random_cutout(\n",
    "        images,\n",
    "        mask_size=(freq_mask_length, model_img_width*3)\n",
    "    )\n",
    "    \n",
    "    return images\n",
    "\n",
    "def augment_image_train(images):    \n",
    "    images = random_crop_layer(images)\n",
    "    images = random_contrast_layer(images)\n",
    "    images = random_mask(images)\n",
    "    images = random_translate_layer(images)\n",
    "    \n",
    "    images = rescale_layer(images)\n",
    "    images = resize(images)\n",
    "\n",
    "    return images\n",
    "\n",
    "def augment_image_test(images):\n",
    "    images = rescale_layer(images)\n",
    "    images = resize(images)\n",
    "    \n",
    "    return images"
   ]
  },
  {
   "cell_type": "code",
   "execution_count": 10,
   "metadata": {},
   "outputs": [],
   "source": [
    "def prepare(ds, augment=False):\n",
    "    # Use data augmentation only on the training set\n",
    "    if augment:\n",
    "        ds = ds.map(lambda x, y: (augment_image_train(x), y), num_parallel_calls=AUTOTUNE)\n",
    "    else: \n",
    "        ds = ds.map(lambda x, y: (augment_image_test(x), y), num_parallel_calls=AUTOTUNE)\n",
    "\n",
    "    # Use buffered prefecting on all datasets\n",
    "    return ds.prefetch(buffer_size=AUTOTUNE)"
   ]
  },
  {
   "cell_type": "code",
   "execution_count": 11,
   "metadata": {},
   "outputs": [],
   "source": [
    "class_num = len(train_ds.class_names)"
   ]
  },
  {
   "cell_type": "code",
   "execution_count": 12,
   "metadata": {},
   "outputs": [],
   "source": [
    "train_ds = prepare(train_ds, augment=True)\n",
    "val_ds = prepare(val_ds)"
   ]
  },
  {
   "cell_type": "code",
   "execution_count": 13,
   "metadata": {},
   "outputs": [],
   "source": [
    "# image = next(iter(train_ds))[0][0, :, :, :]\n",
    "# plt.imshow(image)"
   ]
  },
  {
   "cell_type": "code",
   "execution_count": 14,
   "metadata": {},
   "outputs": [],
   "source": [
    "# image.shape"
   ]
  },
  {
   "cell_type": "code",
   "execution_count": 15,
   "metadata": {
    "_kg_hide-output": true
   },
   "outputs": [
    {
     "name": "stdout",
     "output_type": "stream",
     "text": [
      "Found 72956 images belonging to 265 classes.\n"
     ]
    },
    {
     "name": "stderr",
     "output_type": "stream",
     "text": [
      "/opt/conda/lib/python3.7/site-packages/sklearn/utils/validation.py:70: FutureWarning: Pass classes=[  0   1   2   3   4   5   6   7   8   9  10  11  12  13  14  15  16  17\n",
      "  18  19  20  21  22  23  24  25  26  27  28  29  30  31  32  33  34  35\n",
      "  36  37  38  39  40  41  42  43  44  45  46  47  48  49  50  51  52  53\n",
      "  54  55  56  57  58  59  60  61  62  63  64  65  66  67  68  69  70  71\n",
      "  72  73  74  75  76  77  78  79  80  81  82  83  84  85  86  87  88  89\n",
      "  90  91  92  93  94  95  96  97  98  99 100 101 102 103 104 105 106 107\n",
      " 108 109 110 111 112 113 114 115 116 117 118 119 120 121 122 123 124 125\n",
      " 126 127 128 129 130 131 132 133 134 135 136 137 138 139 140 141 142 143\n",
      " 144 145 146 147 148 149 150 151 152 153 154 155 156 157 158 159 160 161\n",
      " 162 163 164 165 166 167 168 169 170 171 172 173 174 175 176 177 178 179\n",
      " 180 181 182 183 184 185 186 187 188 189 190 191 192 193 194 195 196 197\n",
      " 198 199 200 201 202 203 204 205 206 207 208 209 210 211 212 213 214 215\n",
      " 216 217 218 219 220 221 222 223 224 225 226 227 228 229 230 231 232 233\n",
      " 234 235 236 237 238 239 240 241 242 243 244 245 246 247 248 249 250 251\n",
      " 252 253 254 255 256 257 258 259 260 261 262 263 264], y=[  0   0   0 ... 264 264 264] as keyword args. From version 0.25 passing these as positional arguments will result in an error\n",
      "  FutureWarning)\n"
     ]
    }
   ],
   "source": [
    "train_datagen = ImageDataGenerator(dtype=np.float16)\n",
    "\n",
    "train_generator = train_datagen.flow_from_directory(\n",
    "    directory=storage_dir,\n",
    "    class_mode=\"categorical\",\n",
    "    target_size=original_img_size,\n",
    "    batch_size=batch_size\n",
    ")\n",
    "\n",
    "class_weights = cw.compute_class_weight(\n",
    "    'balanced',\n",
    "    np.unique(train_generator.classes), \n",
    "    train_generator.classes\n",
    ")\n",
    "\n",
    "class_weights = {i : class_weights[i] for i in range(len(class_weights))}\n",
    "\n",
    "del train_datagen\n",
    "del train_generator"
   ]
  },
  {
   "cell_type": "code",
   "execution_count": 16,
   "metadata": {
    "_kg_hide-output": true
   },
   "outputs": [],
   "source": [
    "net = build_model(class_num)"
   ]
  },
  {
   "cell_type": "code",
   "execution_count": 17,
   "metadata": {},
   "outputs": [],
   "source": [
    "# net.load_weights( '../input/birdmel/efficientnet_b4_checkpoint_tf_2_3_0.h5')"
   ]
  },
  {
   "cell_type": "code",
   "execution_count": 18,
   "metadata": {
    "executionInfo": {
     "elapsed": 26355,
     "status": "ok",
     "timestamp": 1596332537283,
     "user": {
      "displayName": "Jacky Ho",
      "photoUrl": "",
      "userId": "11519507165979664806"
     },
     "user_tz": 420
    },
    "id": "z7J4bbcpnywH",
    "outputId": "29c8900f-b2e0-4e7f-d225-7130f4ad09e4"
   },
   "outputs": [],
   "source": [
    "model_check = ModelCheckpoint(\n",
    "    'efn_b4_ckpt_tf_2_3_0.h5',\n",
    "    monitor='val_f1_score', \n",
    "    verbose=0, \n",
    "    save_best_only=True, \n",
    "    save_weights_only=True,\n",
    "    mode='max',\n",
    "    period=1,\n",
    ")\n",
    "\n",
    "reduce_LR = ReduceLROnPlateau(\n",
    "    monitor='val_f1_score',\n",
    "    factor=0.2,\n",
    "    patience=6, \n",
    "    min_lr=1e-5,\n",
    "    cooldown=2\n",
    ")"
   ]
  },
  {
   "cell_type": "code",
   "execution_count": null,
   "metadata": {},
   "outputs": [
    {
     "name": "stdout",
     "output_type": "stream",
     "text": [
      "Epoch 1/100\n",
      "4104/4104 [==============================] - 2025s 494ms/step - loss: 6.7424 - f1_score: 0.0039 - val_loss: 5.7764 - val_f1_score: 0.0036\n",
      "Epoch 2/100\n",
      " 141/4104 [>.............................] - ETA: 31:06 - loss: 6.0544 - f1_score: 0.0066"
     ]
    }
   ],
   "source": [
    "net.fit(\n",
    "    train_ds,\n",
    "    validation_data = val_ds,\n",
    "    epochs = 100,\n",
    "    class_weight = class_weights,\n",
    "    callbacks = [reduce_LR, model_check]\n",
    ")"
   ]
  },
  {
   "cell_type": "code",
   "execution_count": null,
   "metadata": {},
   "outputs": [],
   "source": []
  }
 ],
 "metadata": {
  "kernelspec": {
   "display_name": "Python 3",
   "language": "python",
   "name": "python3"
  },
  "language_info": {
   "codemirror_mode": {
    "name": "ipython",
    "version": 3
   },
   "file_extension": ".py",
   "mimetype": "text/x-python",
   "name": "python",
   "nbconvert_exporter": "python",
   "pygments_lexer": "ipython3",
   "version": "3.7.6"
  }
 },
 "nbformat": 4,
 "nbformat_minor": 4
}
