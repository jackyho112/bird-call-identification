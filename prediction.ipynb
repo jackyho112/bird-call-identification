{
 "cells": [
  {
   "cell_type": "code",
   "execution_count": 1,
   "metadata": {
    "execution": {
     "iopub.execute_input": "2020-08-15T16:25:25.196855Z",
     "iopub.status.busy": "2020-08-15T16:25:25.195852Z",
     "iopub.status.idle": "2020-08-15T16:27:37.915299Z",
     "shell.execute_reply": "2020-08-15T16:27:37.914666Z"
    },
    "papermill": {
     "duration": 132.737011,
     "end_time": "2020-08-15T16:27:37.915422",
     "exception": false,
     "start_time": "2020-08-15T16:25:25.178411",
     "status": "completed"
    },
    "tags": []
   },
   "outputs": [
    {
     "name": "stdout",
     "output_type": "stream",
     "text": [
      "Processing /kaggle/input/birdmel/noisereduce-1.1.0/noisereduce-1.1.0\r\n",
      "Requirement already satisfied: scipy in /opt/conda/lib/python3.7/site-packages (from noisereduce==1.1.0) (1.4.1)\r\n",
      "Requirement already satisfied: matplotlib in /opt/conda/lib/python3.7/site-packages (from noisereduce==1.1.0) (3.2.1)\r\n",
      "Requirement already satisfied: librosa in /opt/conda/lib/python3.7/site-packages (from noisereduce==1.1.0) (0.8.0)\r\n",
      "Requirement already satisfied: numpy in /opt/conda/lib/python3.7/site-packages (from noisereduce==1.1.0) (1.18.5)\r\n",
      "Requirement already satisfied: tqdm in /opt/conda/lib/python3.7/site-packages (from noisereduce==1.1.0) (4.45.0)\r\n",
      "Requirement already satisfied: cycler>=0.10 in /opt/conda/lib/python3.7/site-packages (from matplotlib->noisereduce==1.1.0) (0.10.0)\r\n",
      "Requirement already satisfied: kiwisolver>=1.0.1 in /opt/conda/lib/python3.7/site-packages (from matplotlib->noisereduce==1.1.0) (1.2.0)\r\n",
      "Requirement already satisfied: python-dateutil>=2.1 in /opt/conda/lib/python3.7/site-packages (from matplotlib->noisereduce==1.1.0) (2.8.1)\r\n",
      "Requirement already satisfied: pyparsing!=2.0.4,!=2.1.2,!=2.1.6,>=2.0.1 in /opt/conda/lib/python3.7/site-packages (from matplotlib->noisereduce==1.1.0) (2.4.7)\r\n",
      "Requirement already satisfied: joblib>=0.14 in /opt/conda/lib/python3.7/site-packages (from librosa->noisereduce==1.1.0) (0.14.1)\r\n",
      "Requirement already satisfied: scikit-learn!=0.19.0,>=0.14.0 in /opt/conda/lib/python3.7/site-packages (from librosa->noisereduce==1.1.0) (0.23.2)\r\n",
      "Requirement already satisfied: decorator>=3.0.0 in /opt/conda/lib/python3.7/site-packages (from librosa->noisereduce==1.1.0) (4.4.2)\r\n",
      "Requirement already satisfied: numba>=0.43.0 in /opt/conda/lib/python3.7/site-packages (from librosa->noisereduce==1.1.0) (0.48.0)\r\n",
      "Requirement already satisfied: soundfile>=0.9.0 in /opt/conda/lib/python3.7/site-packages (from librosa->noisereduce==1.1.0) (0.10.3.post1)\r\n",
      "Requirement already satisfied: resampy>=0.2.2 in /opt/conda/lib/python3.7/site-packages (from librosa->noisereduce==1.1.0) (0.2.2)\r\n",
      "Requirement already satisfied: audioread>=2.0.0 in /opt/conda/lib/python3.7/site-packages (from librosa->noisereduce==1.1.0) (2.1.8)\r\n",
      "Requirement already satisfied: pooch>=1.0 in /opt/conda/lib/python3.7/site-packages (from librosa->noisereduce==1.1.0) (1.1.1)\r\n",
      "Requirement already satisfied: six in /opt/conda/lib/python3.7/site-packages (from cycler>=0.10->matplotlib->noisereduce==1.1.0) (1.14.0)\r\n",
      "Requirement already satisfied: threadpoolctl>=2.0.0 in /opt/conda/lib/python3.7/site-packages (from scikit-learn!=0.19.0,>=0.14.0->librosa->noisereduce==1.1.0) (2.1.0)\r\n",
      "Requirement already satisfied: llvmlite<0.32.0,>=0.31.0dev0 in /opt/conda/lib/python3.7/site-packages (from numba>=0.43.0->librosa->noisereduce==1.1.0) (0.31.0)\r\n",
      "Requirement already satisfied: setuptools in /opt/conda/lib/python3.7/site-packages (from numba>=0.43.0->librosa->noisereduce==1.1.0) (46.1.3.post20200325)\r\n",
      "Requirement already satisfied: cffi>=1.0 in /opt/conda/lib/python3.7/site-packages (from soundfile>=0.9.0->librosa->noisereduce==1.1.0) (1.14.0)\r\n",
      "Requirement already satisfied: appdirs in /opt/conda/lib/python3.7/site-packages (from pooch>=1.0->librosa->noisereduce==1.1.0) (1.4.3)\r\n",
      "Requirement already satisfied: requests in /opt/conda/lib/python3.7/site-packages (from pooch>=1.0->librosa->noisereduce==1.1.0) (2.23.0)\r\n",
      "Requirement already satisfied: packaging in /opt/conda/lib/python3.7/site-packages (from pooch>=1.0->librosa->noisereduce==1.1.0) (20.1)\r\n",
      "Requirement already satisfied: pycparser in /opt/conda/lib/python3.7/site-packages (from cffi>=1.0->soundfile>=0.9.0->librosa->noisereduce==1.1.0) (2.20)\r\n",
      "Requirement already satisfied: idna<3,>=2.5 in /opt/conda/lib/python3.7/site-packages (from requests->pooch>=1.0->librosa->noisereduce==1.1.0) (2.9)\r\n",
      "Requirement already satisfied: certifi>=2017.4.17 in /opt/conda/lib/python3.7/site-packages (from requests->pooch>=1.0->librosa->noisereduce==1.1.0) (2020.6.20)\r\n",
      "Requirement already satisfied: chardet<4,>=3.0.2 in /opt/conda/lib/python3.7/site-packages (from requests->pooch>=1.0->librosa->noisereduce==1.1.0) (3.0.4)\r\n",
      "Requirement already satisfied: urllib3!=1.25.0,!=1.25.1,<1.26,>=1.21.1 in /opt/conda/lib/python3.7/site-packages (from requests->pooch>=1.0->librosa->noisereduce==1.1.0) (1.24.3)\r\n",
      "Building wheels for collected packages: noisereduce\r\n",
      "  Building wheel for noisereduce (setup.py) ... \u001b[?25l-\b \b\\\b \bdone\r\n",
      "\u001b[?25h  Created wheel for noisereduce: filename=noisereduce-1.1.0-py3-none-any.whl size=7608 sha256=38074fde7f0226330f5e89d423d7f2a9d2034e63f31b8b76ea384b453a09d0c3\r\n",
      "  Stored in directory: /root/.cache/pip/wheels/49/8f/7b/bf5d8c00277dd5beab590b95f4e803aca73f99a7640bee9c71\r\n",
      "Successfully built noisereduce\r\n",
      "Installing collected packages: noisereduce\r\n",
      "Successfully installed noisereduce-1.1.0\r\n",
      "Processing /kaggle/input/birdmel/Keras_Applications-1.0.8-py3-none-any.whl\r\n",
      "Requirement already satisfied: numpy>=1.9.1 in /opt/conda/lib/python3.7/site-packages (from Keras-Applications==1.0.8) (1.18.5)\r\n",
      "Requirement already satisfied: h5py in /opt/conda/lib/python3.7/site-packages (from Keras-Applications==1.0.8) (2.10.0)\r\n",
      "Requirement already satisfied: six in /opt/conda/lib/python3.7/site-packages (from h5py->Keras-Applications==1.0.8) (1.14.0)\r\n",
      "Installing collected packages: Keras-Applications\r\n",
      "Successfully installed Keras-Applications-1.0.8\r\n",
      "Processing /kaggle/input/birdmel/efficientnet-1.1.0/efficientnet-1.1.0\r\n",
      "Requirement already satisfied: keras_applications<=1.0.8,>=1.0.7 in /opt/conda/lib/python3.7/site-packages (from efficientnet==1.1.0) (1.0.8)\r\n",
      "Requirement already satisfied: scikit-image in /opt/conda/lib/python3.7/site-packages (from efficientnet==1.1.0) (0.16.2)\r\n",
      "Requirement already satisfied: numpy>=1.9.1 in /opt/conda/lib/python3.7/site-packages (from keras_applications<=1.0.8,>=1.0.7->efficientnet==1.1.0) (1.18.5)\r\n",
      "Requirement already satisfied: h5py in /opt/conda/lib/python3.7/site-packages (from keras_applications<=1.0.8,>=1.0.7->efficientnet==1.1.0) (2.10.0)\r\n",
      "Requirement already satisfied: scipy>=0.19.0 in /opt/conda/lib/python3.7/site-packages (from scikit-image->efficientnet==1.1.0) (1.4.1)\r\n",
      "Requirement already satisfied: matplotlib!=3.0.0,>=2.0.0 in /opt/conda/lib/python3.7/site-packages (from scikit-image->efficientnet==1.1.0) (3.2.1)\r\n",
      "Requirement already satisfied: networkx>=2.0 in /opt/conda/lib/python3.7/site-packages (from scikit-image->efficientnet==1.1.0) (2.4)\r\n",
      "Requirement already satisfied: pillow>=4.3.0 in /opt/conda/lib/python3.7/site-packages (from scikit-image->efficientnet==1.1.0) (7.2.0)\r\n",
      "Requirement already satisfied: imageio>=2.3.0 in /opt/conda/lib/python3.7/site-packages (from scikit-image->efficientnet==1.1.0) (2.8.0)\r\n",
      "Requirement already satisfied: PyWavelets>=0.4.0 in /opt/conda/lib/python3.7/site-packages (from scikit-image->efficientnet==1.1.0) (1.1.1)\r\n",
      "Requirement already satisfied: six in /opt/conda/lib/python3.7/site-packages (from h5py->keras_applications<=1.0.8,>=1.0.7->efficientnet==1.1.0) (1.14.0)\r\n",
      "Requirement already satisfied: pyparsing!=2.0.4,!=2.1.2,!=2.1.6,>=2.0.1 in /opt/conda/lib/python3.7/site-packages (from matplotlib!=3.0.0,>=2.0.0->scikit-image->efficientnet==1.1.0) (2.4.7)\r\n",
      "Requirement already satisfied: kiwisolver>=1.0.1 in /opt/conda/lib/python3.7/site-packages (from matplotlib!=3.0.0,>=2.0.0->scikit-image->efficientnet==1.1.0) (1.2.0)\r\n",
      "Requirement already satisfied: cycler>=0.10 in /opt/conda/lib/python3.7/site-packages (from matplotlib!=3.0.0,>=2.0.0->scikit-image->efficientnet==1.1.0) (0.10.0)\r\n",
      "Requirement already satisfied: python-dateutil>=2.1 in /opt/conda/lib/python3.7/site-packages (from matplotlib!=3.0.0,>=2.0.0->scikit-image->efficientnet==1.1.0) (2.8.1)\r\n",
      "Requirement already satisfied: decorator>=4.3.0 in /opt/conda/lib/python3.7/site-packages (from networkx>=2.0->scikit-image->efficientnet==1.1.0) (4.4.2)\r\n",
      "Building wheels for collected packages: efficientnet\r\n",
      "  Building wheel for efficientnet (setup.py) ... \u001b[?25l-\b \b\\\b \bdone\r\n",
      "\u001b[?25h  Created wheel for efficientnet: filename=efficientnet-1.1.0-py3-none-any.whl size=14141 sha256=2a16eec23642a291b89dbef7969ef0d172d128f18bcad4cbe3e7c8b4373dd4f9\r\n",
      "  Stored in directory: /root/.cache/pip/wheels/fa/91/d3/2401dc7a5a531245ffc84b63cd11d6594f132c41a1382ec230\r\n",
      "Successfully built efficientnet\r\n",
      "Installing collected packages: efficientnet\r\n",
      "Successfully installed efficientnet-1.1.0\r\n",
      "Processing /kaggle/input/birdmel/tensorflow_addons-0.11.1-cp37-cp37m-manylinux2010_x86_64.whl\r\n",
      "Requirement already satisfied: typeguard>=2.7 in /opt/conda/lib/python3.7/site-packages (from tensorflow-addons==0.11.1) (2.9.1)\r\n",
      "Installing collected packages: tensorflow-addons\r\n",
      "  Attempting uninstall: tensorflow-addons\r\n",
      "    Found existing installation: tensorflow-addons 0.10.0\r\n",
      "    Uninstalling tensorflow-addons-0.10.0:\r\n",
      "      Successfully uninstalled tensorflow-addons-0.10.0\r\n",
      "Successfully installed tensorflow-addons-0.11.1\r\n"
     ]
    }
   ],
   "source": [
    "!pip install '../input/birdmel/noisereduce-1.1.0/noisereduce-1.1.0'\n",
    "!pip install '../input/birdmel/Keras_Applications-1.0.8-py3-none-any.whl'\n",
    "!pip install '../input/birdmel/efficientnet-1.1.0/efficientnet-1.1.0'\n",
    "!pip install '../input/birdmel/tensorflow_addons-0.11.1-cp37-cp37m-manylinux2010_x86_64.whl'"
   ]
  },
  {
   "cell_type": "code",
   "execution_count": 2,
   "metadata": {
    "_cell_guid": "79c7e3d0-c299-4dcb-8224-4455121ee9b0",
    "_uuid": "d629ff2d2480ee46fbb7e2d37f6b5fab8052498a",
    "execution": {
     "iopub.execute_input": "2020-08-15T16:27:37.983003Z",
     "iopub.status.busy": "2020-08-15T16:27:37.982141Z",
     "iopub.status.idle": "2020-08-15T16:27:44.833736Z",
     "shell.execute_reply": "2020-08-15T16:27:44.833171Z"
    },
    "papermill": {
     "duration": 6.887075,
     "end_time": "2020-08-15T16:27:44.833862",
     "exception": false,
     "start_time": "2020-08-15T16:27:37.946787",
     "status": "completed"
    },
    "tags": []
   },
   "outputs": [
    {
     "name": "stderr",
     "output_type": "stream",
     "text": [
      "/opt/conda/lib/python3.7/site-packages/noisereduce/noisereduce.py:5: TqdmExperimentalWarning: Using `tqdm.autonotebook.tqdm` in notebook mode. Use `tqdm.tqdm` instead to force console mode (e.g. in jupyter console)\n",
      "  from tqdm.autonotebook import tqdm\n"
     ]
    }
   ],
   "source": [
    "import numpy as np \n",
    "import pandas as pd\n",
    "\n",
    "import tensorflow as tf\n",
    "\n",
    "import librosa\n",
    "import noisereduce as no\n",
    "import cv2\n",
    "import matplotlib.pyplot as plt\n",
    "\n",
    "import efficientnet.tfkeras as efn\n",
    "import tensorflow_addons as tfa"
   ]
  },
  {
   "cell_type": "markdown",
   "execution_count": null,
   "metadata": {
    "papermill": {
     "duration": 0.031284,
     "end_time": "2020-08-15T16:27:44.895464",
     "exception": false,
     "start_time": "2020-08-15T16:27:44.864180",
     "status": "completed"
    },
    "tags": []
   },
   "source": [
    "## Load a pretrained EfficientNetB5 model"
   ]
  },
  {
   "cell_type": "code",
   "execution_count": 3,
   "metadata": {
    "execution": {
     "iopub.execute_input": "2020-08-15T16:27:44.963759Z",
     "iopub.status.busy": "2020-08-15T16:27:44.961976Z",
     "iopub.status.idle": "2020-08-15T16:27:44.964405Z",
     "shell.execute_reply": "2020-08-15T16:27:44.964870Z"
    },
    "papermill": {
     "duration": 0.038452,
     "end_time": "2020-08-15T16:27:44.965014",
     "exception": false,
     "start_time": "2020-08-15T16:27:44.926562",
     "status": "completed"
    },
    "tags": []
   },
   "outputs": [],
   "source": [
    "batch_size = 16\n",
    "img_size = (256, 5150)\n",
    "seed = 1\n",
    "storage_dir = '../input/birdmel/train_img_split/train_img_split'"
   ]
  },
  {
   "cell_type": "code",
   "execution_count": 4,
   "metadata": {
    "execution": {
     "iopub.execute_input": "2020-08-15T16:27:45.031551Z",
     "iopub.status.busy": "2020-08-15T16:27:45.030838Z",
     "iopub.status.idle": "2020-08-15T16:27:52.134993Z",
     "shell.execute_reply": "2020-08-15T16:27:52.134416Z"
    },
    "papermill": {
     "duration": 7.139965,
     "end_time": "2020-08-15T16:27:52.135116",
     "exception": false,
     "start_time": "2020-08-15T16:27:44.995151",
     "status": "completed"
    },
    "tags": []
   },
   "outputs": [
    {
     "name": "stdout",
     "output_type": "stream",
     "text": [
      "Found 50303 files belonging to 264 classes.\n",
      "Using 5030 files for validation.\n"
     ]
    }
   ],
   "source": [
    "val_ds = tf.keras.preprocessing.image_dataset_from_directory(\n",
    "    storage_dir,\n",
    "    validation_split=0.1,\n",
    "    subset=\"validation\",\n",
    "    seed=seed,\n",
    "    image_size=img_size,\n",
    "    batch_size=batch_size,\n",
    "    label_mode='categorical'\n",
    ")"
   ]
  },
  {
   "cell_type": "code",
   "execution_count": 5,
   "metadata": {
    "execution": {
     "iopub.execute_input": "2020-08-15T16:27:52.205698Z",
     "iopub.status.busy": "2020-08-15T16:27:52.203853Z",
     "iopub.status.idle": "2020-08-15T16:27:52.206363Z",
     "shell.execute_reply": "2020-08-15T16:27:52.206857Z"
    },
    "papermill": {
     "duration": 0.039878,
     "end_time": "2020-08-15T16:27:52.206991",
     "exception": false,
     "start_time": "2020-08-15T16:27:52.167113",
     "status": "completed"
    },
    "tags": []
   },
   "outputs": [],
   "source": [
    "class_names = np.array(val_ds.class_names)\n",
    "class_num = len(val_ds.class_names)"
   ]
  },
  {
   "cell_type": "code",
   "execution_count": 6,
   "metadata": {
    "execution": {
     "iopub.execute_input": "2020-08-15T16:27:52.277606Z",
     "iopub.status.busy": "2020-08-15T16:27:52.276850Z",
     "iopub.status.idle": "2020-08-15T16:27:52.284420Z",
     "shell.execute_reply": "2020-08-15T16:27:52.283928Z"
    },
    "papermill": {
     "duration": 0.046647,
     "end_time": "2020-08-15T16:27:52.284550",
     "exception": false,
     "start_time": "2020-08-15T16:27:52.237903",
     "status": "completed"
    },
    "tags": []
   },
   "outputs": [],
   "source": [
    "normalization_layer = tf.keras.layers.experimental.preprocessing.Rescaling(scale=1./127.5, offset=-1)\n",
    "\n",
    "def resize(image, height=256, width=256):\n",
    "    return tf.image.resize_with_crop_or_pad(image, target_height=height, target_width=width)\n",
    "\n",
    "def augment_image_test(image):\n",
    "    image = resize(image, 256, 216)\n",
    "    image = resize(image)\n",
    "    image = normalization_layer(image)\n",
    "\n",
    "    return image\n",
    "\n",
    "def prepare(ds):\n",
    "    return ds.map(lambda x, y: (augment_image_test(x), y))"
   ]
  },
  {
   "cell_type": "code",
   "execution_count": 7,
   "metadata": {
    "execution": {
     "iopub.execute_input": "2020-08-15T16:27:52.349905Z",
     "iopub.status.busy": "2020-08-15T16:27:52.349280Z",
     "iopub.status.idle": "2020-08-15T16:27:59.621063Z",
     "shell.execute_reply": "2020-08-15T16:27:59.621826Z"
    },
    "papermill": {
     "duration": 7.306429,
     "end_time": "2020-08-15T16:27:59.622047",
     "exception": false,
     "start_time": "2020-08-15T16:27:52.315618",
     "status": "completed"
    },
    "tags": []
   },
   "outputs": [],
   "source": [
    "net = tf.keras.models.load_model('../input/birdmel/efficientnet_b5_tf_2_3_0.h5')"
   ]
  },
  {
   "cell_type": "markdown",
   "execution_count": null,
   "metadata": {
    "papermill": {
     "duration": 0.03166,
     "end_time": "2020-08-15T16:27:59.692503",
     "exception": false,
     "start_time": "2020-08-15T16:27:59.660843",
     "status": "completed"
    },
    "tags": []
   },
   "source": [
    "## Prediction"
   ]
  },
  {
   "cell_type": "code",
   "execution_count": 8,
   "metadata": {
    "execution": {
     "iopub.execute_input": "2020-08-15T16:27:59.764491Z",
     "iopub.status.busy": "2020-08-15T16:27:59.762426Z",
     "iopub.status.idle": "2020-08-15T16:27:59.765187Z",
     "shell.execute_reply": "2020-08-15T16:27:59.765691Z"
    },
    "papermill": {
     "duration": 0.042439,
     "end_time": "2020-08-15T16:27:59.765818",
     "exception": false,
     "start_time": "2020-08-15T16:27:59.723379",
     "status": "completed"
    },
    "tags": []
   },
   "outputs": [],
   "source": [
    "fmin = 300\n",
    "def get_melspectrogram_db(file_path):\n",
    "    n_fft = 2048\n",
    "    hop_length = 512   \n",
    "    n_mels = 256\n",
    "\n",
    "    signal, sr = librosa.load(file_path)\n",
    "    \n",
    "    signal = no.reduce_noise(audio_clip=signal, noise_clip=signal, verbose=False)\n",
    "\n",
    "    spec = librosa.feature.melspectrogram(\n",
    "        signal, \n",
    "        sr=sr, \n",
    "        n_fft=n_fft,\n",
    "        hop_length=hop_length,\n",
    "        n_mels=n_mels,\n",
    "        fmin=fmin\n",
    "    )\n",
    "    \n",
    "    return librosa.power_to_db(spec, ref=np.max)"
   ]
  },
  {
   "cell_type": "code",
   "execution_count": 9,
   "metadata": {
    "execution": {
     "iopub.execute_input": "2020-08-15T16:27:59.849204Z",
     "iopub.status.busy": "2020-08-15T16:27:59.848294Z",
     "iopub.status.idle": "2020-08-15T16:27:59.853120Z",
     "shell.execute_reply": "2020-08-15T16:27:59.853806Z"
    },
    "papermill": {
     "duration": 0.057137,
     "end_time": "2020-08-15T16:27:59.854005",
     "exception": false,
     "start_time": "2020-08-15T16:27:59.796868",
     "status": "completed"
    },
    "tags": []
   },
   "outputs": [],
   "source": [
    "def spec_to_image(spec, eps=1e-6):\n",
    "    mean = spec.mean()\n",
    "    std = spec.std()\n",
    "    spec_norm = (spec - mean) / (std + eps)\n",
    "    spec_min, spec_max = spec_norm.min(), spec_norm.max()\n",
    "    spec_scaled = 255 * (spec_norm - spec_min) / (spec_max - spec_min)\n",
    "    spec_scaled = spec_scaled.astype(np.uint8)\n",
    "    spec_scaled = np.flip(spec_scaled, axis=0)\n",
    "\n",
    "    return spec_scaled"
   ]
  },
  {
   "cell_type": "code",
   "execution_count": 10,
   "metadata": {
    "execution": {
     "iopub.execute_input": "2020-08-15T16:27:59.944376Z",
     "iopub.status.busy": "2020-08-15T16:27:59.943584Z",
     "iopub.status.idle": "2020-08-15T16:27:59.947039Z",
     "shell.execute_reply": "2020-08-15T16:27:59.946376Z"
    },
    "papermill": {
     "duration": 0.04789,
     "end_time": "2020-08-15T16:27:59.947143",
     "exception": false,
     "start_time": "2020-08-15T16:27:59.899253",
     "status": "completed"
    },
    "tags": []
   },
   "outputs": [],
   "source": [
    "def img_to_imgs(img):\n",
    "    size = 216 # 5 seconds\n",
    "    \n",
    "    width = img.shape[1]\n",
    "    split_num = int(np.floor(width/size))\n",
    "    residual = width - split_num*size\n",
    "    end_split_index = width - residual\n",
    "    \n",
    "    imgs = []\n",
    "    if split_num > 0:\n",
    "        imgs = np.array_split(img[:, :end_split_index, :], split_num, axis=1)\n",
    "\n",
    "    imgs.append(img[:, end_split_index:, :])\n",
    "    \n",
    "    return imgs"
   ]
  },
  {
   "cell_type": "code",
   "execution_count": 11,
   "metadata": {
    "execution": {
     "iopub.execute_input": "2020-08-15T16:28:00.017049Z",
     "iopub.status.busy": "2020-08-15T16:28:00.016228Z",
     "iopub.status.idle": "2020-08-15T16:28:00.020051Z",
     "shell.execute_reply": "2020-08-15T16:28:00.019231Z"
    },
    "papermill": {
     "duration": 0.041578,
     "end_time": "2020-08-15T16:28:00.020162",
     "exception": false,
     "start_time": "2020-08-15T16:27:59.978584",
     "status": "completed"
    },
    "tags": []
   },
   "outputs": [],
   "source": [
    "def file_to_imgs(file):\n",
    "    if file.endswith(\".mp3\"):\n",
    "        img = spec_to_image(get_melspectrogram_db(file))\n",
    "        img = cv2.merge((img,img,img))\n",
    "        imgs = img_to_imgs(img)\n",
    "        \n",
    "        return imgs\n",
    "    else:\n",
    "        return []"
   ]
  },
  {
   "cell_type": "code",
   "execution_count": 12,
   "metadata": {
    "execution": {
     "iopub.execute_input": "2020-08-15T16:28:00.090551Z",
     "iopub.status.busy": "2020-08-15T16:28:00.089875Z",
     "iopub.status.idle": "2020-08-15T16:28:00.094126Z",
     "shell.execute_reply": "2020-08-15T16:28:00.093436Z"
    },
    "papermill": {
     "duration": 0.042834,
     "end_time": "2020-08-15T16:28:00.094236",
     "exception": false,
     "start_time": "2020-08-15T16:28:00.051402",
     "status": "completed"
    },
    "tags": []
   },
   "outputs": [],
   "source": [
    "def predict_img(model, class_names, img, threshold = 0.5):\n",
    "    tensor = augment_image_test(img)\n",
    "    batch = tf.expand_dims(tensor, 0)\n",
    "    probas = net.predict(x=batch)[0]\n",
    "    selected_class_names = class_names[probas > threshold]\n",
    "    return list(selected_class_names).sort()"
   ]
  },
  {
   "cell_type": "code",
   "execution_count": 13,
   "metadata": {
    "execution": {
     "iopub.execute_input": "2020-08-15T16:28:00.165833Z",
     "iopub.status.busy": "2020-08-15T16:28:00.163790Z",
     "iopub.status.idle": "2020-08-15T16:28:00.166686Z",
     "shell.execute_reply": "2020-08-15T16:28:00.167213Z"
    },
    "papermill": {
     "duration": 0.041434,
     "end_time": "2020-08-15T16:28:00.167353",
     "exception": false,
     "start_time": "2020-08-15T16:28:00.125919",
     "status": "completed"
    },
    "tags": []
   },
   "outputs": [],
   "source": [
    "def predict_imgs(model, class_names, imgs, threshold = 0.5):\n",
    "    preds = []\n",
    "    \n",
    "    for img in imgs:\n",
    "        preds += predict(model, class_names, img, threshold)\n",
    "    \n",
    "    return list(set(preds)).sort()"
   ]
  },
  {
   "cell_type": "code",
   "execution_count": 14,
   "metadata": {
    "execution": {
     "iopub.execute_input": "2020-08-15T16:28:00.251478Z",
     "iopub.status.busy": "2020-08-15T16:28:00.249278Z",
     "iopub.status.idle": "2020-08-15T16:28:00.252345Z",
     "shell.execute_reply": "2020-08-15T16:28:00.252931Z"
    },
    "papermill": {
     "duration": 0.050626,
     "end_time": "2020-08-15T16:28:00.253082",
     "exception": false,
     "start_time": "2020-08-15T16:28:00.202456",
     "status": "completed"
    },
    "tags": []
   },
   "outputs": [],
   "source": [
    "def predict_df(df, audio_dir='../input/birdsong-recognition/test_audio/'):\n",
    "    row_ids = []\n",
    "    birds = []\n",
    "    \n",
    "    current_file_name = ''\n",
    "    current_images = []\n",
    "    for index, row in df.iterrows():\n",
    "        row_id = row['row_id']\n",
    "        filename = row['audio_id']\n",
    "        \n",
    "        if filename != current_file_name:\n",
    "            current_file_name = filename\n",
    "            current_images = file_to_imgs(audio_dir + filename + '.mp3')\n",
    "            print(filename)\n",
    "           \n",
    "        site = row['site']\n",
    "        if site == 'site_3':\n",
    "            preds = predict_imgs(net, class_names, current_images)\n",
    "        else:\n",
    "            preds = predict_img(net, class_names, current_images.pop(0))\n",
    "            \n",
    "        row_ids.append(row_id)\n",
    "        birds.append(preds)\n",
    "        \n",
    "    return pd.DataFrame({\n",
    "        'row_id': row_ids,\n",
    "        'birds': list(map(lambda x: 'nocall' if len(x) == 0 else ' '.join(x), birds))\n",
    "    })"
   ]
  },
  {
   "cell_type": "code",
   "execution_count": 15,
   "metadata": {
    "execution": {
     "iopub.execute_input": "2020-08-15T16:28:00.331599Z",
     "iopub.status.busy": "2020-08-15T16:28:00.330779Z",
     "iopub.status.idle": "2020-08-15T16:28:00.345616Z",
     "shell.execute_reply": "2020-08-15T16:28:00.344794Z"
    },
    "papermill": {
     "duration": 0.05979,
     "end_time": "2020-08-15T16:28:00.345772",
     "exception": false,
     "start_time": "2020-08-15T16:28:00.285982",
     "status": "completed"
    },
    "tags": []
   },
   "outputs": [],
   "source": [
    "test_df = pd.read_csv('../input/birdsong-recognition/test.csv')"
   ]
  },
  {
   "cell_type": "code",
   "execution_count": 16,
   "metadata": {
    "execution": {
     "iopub.execute_input": "2020-08-15T16:28:00.427407Z",
     "iopub.status.busy": "2020-08-15T16:28:00.426460Z",
     "iopub.status.idle": "2020-08-15T16:28:00.434791Z",
     "shell.execute_reply": "2020-08-15T16:28:00.435272Z"
    },
    "papermill": {
     "duration": 0.053606,
     "end_time": "2020-08-15T16:28:00.435403",
     "exception": false,
     "start_time": "2020-08-15T16:28:00.381797",
     "status": "completed"
    },
    "tags": []
   },
   "outputs": [
    {
     "data": {
      "text/html": [
       "<div>\n",
       "<style scoped>\n",
       "    .dataframe tbody tr th:only-of-type {\n",
       "        vertical-align: middle;\n",
       "    }\n",
       "\n",
       "    .dataframe tbody tr th {\n",
       "        vertical-align: top;\n",
       "    }\n",
       "\n",
       "    .dataframe thead th {\n",
       "        text-align: right;\n",
       "    }\n",
       "</style>\n",
       "<table border=\"1\" class=\"dataframe\">\n",
       "  <thead>\n",
       "    <tr style=\"text-align: right;\">\n",
       "      <th></th>\n",
       "      <th>site</th>\n",
       "      <th>row_id</th>\n",
       "      <th>seconds</th>\n",
       "      <th>audio_id</th>\n",
       "    </tr>\n",
       "  </thead>\n",
       "  <tbody>\n",
       "    <tr>\n",
       "      <th>0</th>\n",
       "      <td>site_1</td>\n",
       "      <td>site_1_0a997dff022e3ad9744d4e7bbf923288_5</td>\n",
       "      <td>5</td>\n",
       "      <td>0a997dff022e3ad9744d4e7bbf923288</td>\n",
       "    </tr>\n",
       "    <tr>\n",
       "      <th>1</th>\n",
       "      <td>site_1</td>\n",
       "      <td>site_1_0a997dff022e3ad9744d4e7bbf923288_10</td>\n",
       "      <td>10</td>\n",
       "      <td>0a997dff022e3ad9744d4e7bbf923288</td>\n",
       "    </tr>\n",
       "    <tr>\n",
       "      <th>2</th>\n",
       "      <td>site_1</td>\n",
       "      <td>site_1_0a997dff022e3ad9744d4e7bbf923288_15</td>\n",
       "      <td>15</td>\n",
       "      <td>0a997dff022e3ad9744d4e7bbf923288</td>\n",
       "    </tr>\n",
       "  </tbody>\n",
       "</table>\n",
       "</div>"
      ],
      "text/plain": [
       "     site                                      row_id  seconds  \\\n",
       "0  site_1   site_1_0a997dff022e3ad9744d4e7bbf923288_5        5   \n",
       "1  site_1  site_1_0a997dff022e3ad9744d4e7bbf923288_10       10   \n",
       "2  site_1  site_1_0a997dff022e3ad9744d4e7bbf923288_15       15   \n",
       "\n",
       "                           audio_id  \n",
       "0  0a997dff022e3ad9744d4e7bbf923288  \n",
       "1  0a997dff022e3ad9744d4e7bbf923288  \n",
       "2  0a997dff022e3ad9744d4e7bbf923288  "
      ]
     },
     "execution_count": 16,
     "metadata": {},
     "output_type": "execute_result"
    }
   ],
   "source": [
    "test_df"
   ]
  },
  {
   "cell_type": "code",
   "execution_count": 17,
   "metadata": {
    "execution": {
     "iopub.execute_input": "2020-08-15T16:28:00.505508Z",
     "iopub.status.busy": "2020-08-15T16:28:00.504602Z",
     "iopub.status.idle": "2020-08-15T16:28:00.510990Z",
     "shell.execute_reply": "2020-08-15T16:28:00.510439Z"
    },
    "papermill": {
     "duration": 0.043883,
     "end_time": "2020-08-15T16:28:00.511092",
     "exception": false,
     "start_time": "2020-08-15T16:28:00.467209",
     "status": "completed"
    },
    "tags": []
   },
   "outputs": [],
   "source": [
    "import warnings\n",
    "warnings.filterwarnings('ignore')\n",
    "\n",
    "try:\n",
    "    sub_df = predict_df(sample_df)\n",
    "except:\n",
    "    sub_df = pd.read_csv('../input/birdsong-recognition/sample_submission.csv')"
   ]
  },
  {
   "cell_type": "code",
   "execution_count": 18,
   "metadata": {
    "execution": {
     "iopub.execute_input": "2020-08-15T16:28:00.583412Z",
     "iopub.status.busy": "2020-08-15T16:28:00.582544Z",
     "iopub.status.idle": "2020-08-15T16:28:00.586479Z",
     "shell.execute_reply": "2020-08-15T16:28:00.586961Z"
    },
    "papermill": {
     "duration": 0.044663,
     "end_time": "2020-08-15T16:28:00.587084",
     "exception": false,
     "start_time": "2020-08-15T16:28:00.542421",
     "status": "completed"
    },
    "tags": []
   },
   "outputs": [
    {
     "data": {
      "text/html": [
       "<div>\n",
       "<style scoped>\n",
       "    .dataframe tbody tr th:only-of-type {\n",
       "        vertical-align: middle;\n",
       "    }\n",
       "\n",
       "    .dataframe tbody tr th {\n",
       "        vertical-align: top;\n",
       "    }\n",
       "\n",
       "    .dataframe thead th {\n",
       "        text-align: right;\n",
       "    }\n",
       "</style>\n",
       "<table border=\"1\" class=\"dataframe\">\n",
       "  <thead>\n",
       "    <tr style=\"text-align: right;\">\n",
       "      <th></th>\n",
       "      <th>row_id</th>\n",
       "      <th>birds</th>\n",
       "    </tr>\n",
       "  </thead>\n",
       "  <tbody>\n",
       "    <tr>\n",
       "      <th>0</th>\n",
       "      <td>site_1_0a997dff022e3ad9744d4e7bbf923288_5</td>\n",
       "      <td>nocall</td>\n",
       "    </tr>\n",
       "    <tr>\n",
       "      <th>1</th>\n",
       "      <td>site_1_0a997dff022e3ad9744d4e7bbf923288_10</td>\n",
       "      <td>nocall</td>\n",
       "    </tr>\n",
       "    <tr>\n",
       "      <th>2</th>\n",
       "      <td>site_1_0a997dff022e3ad9744d4e7bbf923288_15</td>\n",
       "      <td>nocall</td>\n",
       "    </tr>\n",
       "  </tbody>\n",
       "</table>\n",
       "</div>"
      ],
      "text/plain": [
       "                                       row_id   birds\n",
       "0   site_1_0a997dff022e3ad9744d4e7bbf923288_5  nocall\n",
       "1  site_1_0a997dff022e3ad9744d4e7bbf923288_10  nocall\n",
       "2  site_1_0a997dff022e3ad9744d4e7bbf923288_15  nocall"
      ]
     },
     "execution_count": 18,
     "metadata": {},
     "output_type": "execute_result"
    }
   ],
   "source": [
    "sub_df"
   ]
  },
  {
   "cell_type": "code",
   "execution_count": 19,
   "metadata": {
    "execution": {
     "iopub.execute_input": "2020-08-15T16:28:00.654880Z",
     "iopub.status.busy": "2020-08-15T16:28:00.654134Z",
     "iopub.status.idle": "2020-08-15T16:28:00.702444Z",
     "shell.execute_reply": "2020-08-15T16:28:00.701924Z"
    },
    "papermill": {
     "duration": 0.08388,
     "end_time": "2020-08-15T16:28:00.702601",
     "exception": false,
     "start_time": "2020-08-15T16:28:00.618721",
     "status": "completed"
    },
    "tags": []
   },
   "outputs": [],
   "source": [
    "sub_df.to_csv('submission.csv', index=False)"
   ]
  },
  {
   "cell_type": "code",
   "execution_count": null,
   "metadata": {
    "papermill": {
     "duration": 0.031918,
     "end_time": "2020-08-15T16:28:00.766497",
     "exception": false,
     "start_time": "2020-08-15T16:28:00.734579",
     "status": "completed"
    },
    "tags": []
   },
   "outputs": [],
   "source": []
  }
 ],
 "metadata": {
  "kernelspec": {
   "display_name": "Python 3",
   "language": "python",
   "name": "python3"
  },
  "language_info": {
   "codemirror_mode": {
    "name": "ipython",
    "version": 3
   },
   "file_extension": ".py",
   "mimetype": "text/x-python",
   "name": "python",
   "nbconvert_exporter": "python",
   "pygments_lexer": "ipython3",
   "version": "3.7.6"
  },
  "papermill": {
   "duration": 160.890634,
   "end_time": "2020-08-15T16:28:01.825655",
   "environment_variables": {},
   "exception": null,
   "input_path": "__notebook__.ipynb",
   "output_path": "__notebook__.ipynb",
   "parameters": {},
   "start_time": "2020-08-15T16:25:20.935021",
   "version": "2.1.0"
  }
 },
 "nbformat": 4,
 "nbformat_minor": 4
}
