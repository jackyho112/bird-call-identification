{
 "cells": [
  {
   "cell_type": "code",
   "execution_count": 1,
   "metadata": {},
   "outputs": [],
   "source": [
    "import sys\n",
    "import os\n",
    "\n",
    "import librosa  # python package for music and audio analysis\n",
    "import librosa.display\n",
    "import torchaudio\n",
    "import torch\n",
    "\n",
    "import numpy as np\n",
    "import pandas as pd\n",
    "import matplotlib.pyplot as plt\n",
    "import IPython.display as ipd\n",
    "\n",
    "import noisereduce as no\n",
    "import matplotlib.image as mpimg\n",
    "\n",
    "import multiprocessing\n",
    "from joblib import Parallel, delayed\n",
    "from tqdm import tqdm\n",
    "import functools\n",
    "import cv2 as cv"
   ]
  },
  {
   "cell_type": "code",
   "execution_count": 47,
   "metadata": {},
   "outputs": [],
   "source": [
    "train = pd.read_csv('./data/train.csv')"
   ]
  },
  {
   "cell_type": "code",
   "execution_count": 48,
   "metadata": {},
   "outputs": [
    {
     "data": {
      "text/html": [
       "<div>\n",
       "<style scoped>\n",
       "    .dataframe tbody tr th:only-of-type {\n",
       "        vertical-align: middle;\n",
       "    }\n",
       "\n",
       "    .dataframe tbody tr th {\n",
       "        vertical-align: top;\n",
       "    }\n",
       "\n",
       "    .dataframe thead th {\n",
       "        text-align: right;\n",
       "    }\n",
       "</style>\n",
       "<table border=\"1\" class=\"dataframe\">\n",
       "  <thead>\n",
       "    <tr style=\"text-align: right;\">\n",
       "      <th></th>\n",
       "      <th>rating</th>\n",
       "      <th>playback_used</th>\n",
       "      <th>ebird_code</th>\n",
       "      <th>channels</th>\n",
       "      <th>date</th>\n",
       "      <th>pitch</th>\n",
       "      <th>duration</th>\n",
       "      <th>filename</th>\n",
       "      <th>speed</th>\n",
       "      <th>species</th>\n",
       "      <th>...</th>\n",
       "      <th>xc_id</th>\n",
       "      <th>url</th>\n",
       "      <th>country</th>\n",
       "      <th>author</th>\n",
       "      <th>primary_label</th>\n",
       "      <th>longitude</th>\n",
       "      <th>length</th>\n",
       "      <th>time</th>\n",
       "      <th>recordist</th>\n",
       "      <th>license</th>\n",
       "    </tr>\n",
       "  </thead>\n",
       "  <tbody>\n",
       "    <tr>\n",
       "      <th>0</th>\n",
       "      <td>3.5</td>\n",
       "      <td>no</td>\n",
       "      <td>aldfly</td>\n",
       "      <td>1 (mono)</td>\n",
       "      <td>2013-05-25</td>\n",
       "      <td>Not specified</td>\n",
       "      <td>25</td>\n",
       "      <td>XC134874.mp3</td>\n",
       "      <td>Not specified</td>\n",
       "      <td>Alder Flycatcher</td>\n",
       "      <td>...</td>\n",
       "      <td>134874</td>\n",
       "      <td>https://www.xeno-canto.org/134874</td>\n",
       "      <td>United States</td>\n",
       "      <td>Jonathon Jongsma</td>\n",
       "      <td>Empidonax alnorum_Alder Flycatcher</td>\n",
       "      <td>-92.962</td>\n",
       "      <td>Not specified</td>\n",
       "      <td>8:00</td>\n",
       "      <td>Jonathon Jongsma</td>\n",
       "      <td>Creative Commons Attribution-ShareAlike 3.0</td>\n",
       "    </tr>\n",
       "    <tr>\n",
       "      <th>1</th>\n",
       "      <td>4.0</td>\n",
       "      <td>no</td>\n",
       "      <td>aldfly</td>\n",
       "      <td>2 (stereo)</td>\n",
       "      <td>2013-05-27</td>\n",
       "      <td>both</td>\n",
       "      <td>36</td>\n",
       "      <td>XC135454.mp3</td>\n",
       "      <td>both</td>\n",
       "      <td>Alder Flycatcher</td>\n",
       "      <td>...</td>\n",
       "      <td>135454</td>\n",
       "      <td>https://www.xeno-canto.org/135454</td>\n",
       "      <td>United States</td>\n",
       "      <td>Mike Nelson</td>\n",
       "      <td>Empidonax alnorum_Alder Flycatcher</td>\n",
       "      <td>-82.1106</td>\n",
       "      <td>0-3(s)</td>\n",
       "      <td>08:30</td>\n",
       "      <td>Mike Nelson</td>\n",
       "      <td>Creative Commons Attribution-NonCommercial-Sha...</td>\n",
       "    </tr>\n",
       "    <tr>\n",
       "      <th>2</th>\n",
       "      <td>4.0</td>\n",
       "      <td>no</td>\n",
       "      <td>aldfly</td>\n",
       "      <td>2 (stereo)</td>\n",
       "      <td>2013-05-27</td>\n",
       "      <td>both</td>\n",
       "      <td>39</td>\n",
       "      <td>XC135455.mp3</td>\n",
       "      <td>both</td>\n",
       "      <td>Alder Flycatcher</td>\n",
       "      <td>...</td>\n",
       "      <td>135455</td>\n",
       "      <td>https://www.xeno-canto.org/135455</td>\n",
       "      <td>United States</td>\n",
       "      <td>Mike Nelson</td>\n",
       "      <td>Empidonax alnorum_Alder Flycatcher</td>\n",
       "      <td>-82.1106</td>\n",
       "      <td>0-3(s)</td>\n",
       "      <td>08:30</td>\n",
       "      <td>Mike Nelson</td>\n",
       "      <td>Creative Commons Attribution-NonCommercial-Sha...</td>\n",
       "    </tr>\n",
       "    <tr>\n",
       "      <th>3</th>\n",
       "      <td>3.5</td>\n",
       "      <td>no</td>\n",
       "      <td>aldfly</td>\n",
       "      <td>2 (stereo)</td>\n",
       "      <td>2013-05-27</td>\n",
       "      <td>both</td>\n",
       "      <td>33</td>\n",
       "      <td>XC135456.mp3</td>\n",
       "      <td>both</td>\n",
       "      <td>Alder Flycatcher</td>\n",
       "      <td>...</td>\n",
       "      <td>135456</td>\n",
       "      <td>https://www.xeno-canto.org/135456</td>\n",
       "      <td>United States</td>\n",
       "      <td>Mike Nelson</td>\n",
       "      <td>Empidonax alnorum_Alder Flycatcher</td>\n",
       "      <td>-82.1106</td>\n",
       "      <td>0-3(s)</td>\n",
       "      <td>08:30</td>\n",
       "      <td>Mike Nelson</td>\n",
       "      <td>Creative Commons Attribution-NonCommercial-Sha...</td>\n",
       "    </tr>\n",
       "    <tr>\n",
       "      <th>4</th>\n",
       "      <td>4.0</td>\n",
       "      <td>no</td>\n",
       "      <td>aldfly</td>\n",
       "      <td>2 (stereo)</td>\n",
       "      <td>2013-05-27</td>\n",
       "      <td>both</td>\n",
       "      <td>36</td>\n",
       "      <td>XC135457.mp3</td>\n",
       "      <td>level</td>\n",
       "      <td>Alder Flycatcher</td>\n",
       "      <td>...</td>\n",
       "      <td>135457</td>\n",
       "      <td>https://www.xeno-canto.org/135457</td>\n",
       "      <td>United States</td>\n",
       "      <td>Mike Nelson</td>\n",
       "      <td>Empidonax alnorum_Alder Flycatcher</td>\n",
       "      <td>-82.1106</td>\n",
       "      <td>0-3(s)</td>\n",
       "      <td>08:30</td>\n",
       "      <td>Mike Nelson</td>\n",
       "      <td>Creative Commons Attribution-NonCommercial-Sha...</td>\n",
       "    </tr>\n",
       "    <tr>\n",
       "      <th>5</th>\n",
       "      <td>4.0</td>\n",
       "      <td>no</td>\n",
       "      <td>aldfly</td>\n",
       "      <td>2 (stereo)</td>\n",
       "      <td>2013-05-27</td>\n",
       "      <td>Not specified</td>\n",
       "      <td>7</td>\n",
       "      <td>XC135459.mp3</td>\n",
       "      <td>Not specified</td>\n",
       "      <td>Alder Flycatcher</td>\n",
       "      <td>...</td>\n",
       "      <td>135459</td>\n",
       "      <td>https://www.xeno-canto.org/135459</td>\n",
       "      <td>United States</td>\n",
       "      <td>Mike Nelson</td>\n",
       "      <td>Empidonax alnorum_Alder Flycatcher</td>\n",
       "      <td>-82.1106</td>\n",
       "      <td>Not specified</td>\n",
       "      <td>08:30</td>\n",
       "      <td>Mike Nelson</td>\n",
       "      <td>Creative Commons Attribution-NonCommercial-Sha...</td>\n",
       "    </tr>\n",
       "    <tr>\n",
       "      <th>6</th>\n",
       "      <td>4.0</td>\n",
       "      <td>no</td>\n",
       "      <td>aldfly</td>\n",
       "      <td>2 (stereo)</td>\n",
       "      <td>2013-05-27</td>\n",
       "      <td>Not specified</td>\n",
       "      <td>45</td>\n",
       "      <td>XC135460.mp3</td>\n",
       "      <td>Not specified</td>\n",
       "      <td>Alder Flycatcher</td>\n",
       "      <td>...</td>\n",
       "      <td>135460</td>\n",
       "      <td>https://www.xeno-canto.org/135460</td>\n",
       "      <td>United States</td>\n",
       "      <td>Mike Nelson</td>\n",
       "      <td>Empidonax alnorum_Alder Flycatcher</td>\n",
       "      <td>-82.1106</td>\n",
       "      <td>Not specified</td>\n",
       "      <td>10:00</td>\n",
       "      <td>Mike Nelson</td>\n",
       "      <td>Creative Commons Attribution-NonCommercial-Sha...</td>\n",
       "    </tr>\n",
       "    <tr>\n",
       "      <th>7</th>\n",
       "      <td>3.5</td>\n",
       "      <td>no</td>\n",
       "      <td>aldfly</td>\n",
       "      <td>2 (stereo)</td>\n",
       "      <td>2013-05-30</td>\n",
       "      <td>increasing</td>\n",
       "      <td>71</td>\n",
       "      <td>XC135883.mp3</td>\n",
       "      <td>level</td>\n",
       "      <td>Alder Flycatcher</td>\n",
       "      <td>...</td>\n",
       "      <td>135883</td>\n",
       "      <td>https://www.xeno-canto.org/135883</td>\n",
       "      <td>United States</td>\n",
       "      <td>Guy McGrane</td>\n",
       "      <td>Empidonax alnorum_Alder Flycatcher</td>\n",
       "      <td>-81.4814</td>\n",
       "      <td>0-3(s)</td>\n",
       "      <td>10:30</td>\n",
       "      <td>Guy McGrane</td>\n",
       "      <td>Creative Commons Attribution-NonCommercial-Sha...</td>\n",
       "    </tr>\n",
       "    <tr>\n",
       "      <th>8</th>\n",
       "      <td>4.0</td>\n",
       "      <td>no</td>\n",
       "      <td>aldfly</td>\n",
       "      <td>2 (stereo)</td>\n",
       "      <td>2013-06-02</td>\n",
       "      <td>both</td>\n",
       "      <td>26</td>\n",
       "      <td>XC137570.mp3</td>\n",
       "      <td>accelerating</td>\n",
       "      <td>Alder Flycatcher</td>\n",
       "      <td>...</td>\n",
       "      <td>137570</td>\n",
       "      <td>https://www.xeno-canto.org/137570</td>\n",
       "      <td>Canada</td>\n",
       "      <td>Martin St-Michel</td>\n",
       "      <td>Empidonax alnorum_Alder Flycatcher</td>\n",
       "      <td>-70.42</td>\n",
       "      <td>0-3(s)</td>\n",
       "      <td>07:03</td>\n",
       "      <td>Martin St-Michel</td>\n",
       "      <td>Creative Commons Attribution-NonCommercial-Sha...</td>\n",
       "    </tr>\n",
       "    <tr>\n",
       "      <th>9</th>\n",
       "      <td>3.5</td>\n",
       "      <td>no</td>\n",
       "      <td>aldfly</td>\n",
       "      <td>1 (mono)</td>\n",
       "      <td>2013-06-16</td>\n",
       "      <td>Not specified</td>\n",
       "      <td>54</td>\n",
       "      <td>XC138639.mp3</td>\n",
       "      <td>Not specified</td>\n",
       "      <td>Alder Flycatcher</td>\n",
       "      <td>...</td>\n",
       "      <td>138639</td>\n",
       "      <td>https://www.xeno-canto.org/138639</td>\n",
       "      <td>United States</td>\n",
       "      <td>Jonathon Jongsma</td>\n",
       "      <td>Empidonax alnorum_Alder Flycatcher</td>\n",
       "      <td>-91.4698</td>\n",
       "      <td>Not specified</td>\n",
       "      <td>06:24</td>\n",
       "      <td>Jonathon Jongsma</td>\n",
       "      <td>Creative Commons Attribution-ShareAlike 3.0</td>\n",
       "    </tr>\n",
       "  </tbody>\n",
       "</table>\n",
       "<p>10 rows × 35 columns</p>\n",
       "</div>"
      ],
      "text/plain": [
       "   rating playback_used ebird_code    channels        date          pitch  \\\n",
       "0     3.5            no     aldfly    1 (mono)  2013-05-25  Not specified   \n",
       "1     4.0            no     aldfly  2 (stereo)  2013-05-27           both   \n",
       "2     4.0            no     aldfly  2 (stereo)  2013-05-27           both   \n",
       "3     3.5            no     aldfly  2 (stereo)  2013-05-27           both   \n",
       "4     4.0            no     aldfly  2 (stereo)  2013-05-27           both   \n",
       "5     4.0            no     aldfly  2 (stereo)  2013-05-27  Not specified   \n",
       "6     4.0            no     aldfly  2 (stereo)  2013-05-27  Not specified   \n",
       "7     3.5            no     aldfly  2 (stereo)  2013-05-30     increasing   \n",
       "8     4.0            no     aldfly  2 (stereo)  2013-06-02           both   \n",
       "9     3.5            no     aldfly    1 (mono)  2013-06-16  Not specified   \n",
       "\n",
       "   duration      filename          speed           species  ...   xc_id  \\\n",
       "0        25  XC134874.mp3  Not specified  Alder Flycatcher  ...  134874   \n",
       "1        36  XC135454.mp3           both  Alder Flycatcher  ...  135454   \n",
       "2        39  XC135455.mp3           both  Alder Flycatcher  ...  135455   \n",
       "3        33  XC135456.mp3           both  Alder Flycatcher  ...  135456   \n",
       "4        36  XC135457.mp3          level  Alder Flycatcher  ...  135457   \n",
       "5         7  XC135459.mp3  Not specified  Alder Flycatcher  ...  135459   \n",
       "6        45  XC135460.mp3  Not specified  Alder Flycatcher  ...  135460   \n",
       "7        71  XC135883.mp3          level  Alder Flycatcher  ...  135883   \n",
       "8        26  XC137570.mp3   accelerating  Alder Flycatcher  ...  137570   \n",
       "9        54  XC138639.mp3  Not specified  Alder Flycatcher  ...  138639   \n",
       "\n",
       "                                 url        country            author  \\\n",
       "0  https://www.xeno-canto.org/134874  United States  Jonathon Jongsma   \n",
       "1  https://www.xeno-canto.org/135454  United States       Mike Nelson   \n",
       "2  https://www.xeno-canto.org/135455  United States       Mike Nelson   \n",
       "3  https://www.xeno-canto.org/135456  United States       Mike Nelson   \n",
       "4  https://www.xeno-canto.org/135457  United States       Mike Nelson   \n",
       "5  https://www.xeno-canto.org/135459  United States       Mike Nelson   \n",
       "6  https://www.xeno-canto.org/135460  United States       Mike Nelson   \n",
       "7  https://www.xeno-canto.org/135883  United States       Guy McGrane   \n",
       "8  https://www.xeno-canto.org/137570         Canada  Martin St-Michel   \n",
       "9  https://www.xeno-canto.org/138639  United States  Jonathon Jongsma   \n",
       "\n",
       "                        primary_label longitude         length   time  \\\n",
       "0  Empidonax alnorum_Alder Flycatcher   -92.962  Not specified   8:00   \n",
       "1  Empidonax alnorum_Alder Flycatcher  -82.1106         0-3(s)  08:30   \n",
       "2  Empidonax alnorum_Alder Flycatcher  -82.1106         0-3(s)  08:30   \n",
       "3  Empidonax alnorum_Alder Flycatcher  -82.1106         0-3(s)  08:30   \n",
       "4  Empidonax alnorum_Alder Flycatcher  -82.1106         0-3(s)  08:30   \n",
       "5  Empidonax alnorum_Alder Flycatcher  -82.1106  Not specified  08:30   \n",
       "6  Empidonax alnorum_Alder Flycatcher  -82.1106  Not specified  10:00   \n",
       "7  Empidonax alnorum_Alder Flycatcher  -81.4814         0-3(s)  10:30   \n",
       "8  Empidonax alnorum_Alder Flycatcher    -70.42         0-3(s)  07:03   \n",
       "9  Empidonax alnorum_Alder Flycatcher  -91.4698  Not specified  06:24   \n",
       "\n",
       "          recordist                                            license  \n",
       "0  Jonathon Jongsma        Creative Commons Attribution-ShareAlike 3.0  \n",
       "1       Mike Nelson  Creative Commons Attribution-NonCommercial-Sha...  \n",
       "2       Mike Nelson  Creative Commons Attribution-NonCommercial-Sha...  \n",
       "3       Mike Nelson  Creative Commons Attribution-NonCommercial-Sha...  \n",
       "4       Mike Nelson  Creative Commons Attribution-NonCommercial-Sha...  \n",
       "5       Mike Nelson  Creative Commons Attribution-NonCommercial-Sha...  \n",
       "6       Mike Nelson  Creative Commons Attribution-NonCommercial-Sha...  \n",
       "7       Guy McGrane  Creative Commons Attribution-NonCommercial-Sha...  \n",
       "8  Martin St-Michel  Creative Commons Attribution-NonCommercial-Sha...  \n",
       "9  Jonathon Jongsma        Creative Commons Attribution-ShareAlike 3.0  \n",
       "\n",
       "[10 rows x 35 columns]"
      ]
     },
     "execution_count": 48,
     "metadata": {},
     "output_type": "execute_result"
    }
   ],
   "source": [
    "train.head(10)"
   ]
  },
  {
   "cell_type": "code",
   "execution_count": 2,
   "metadata": {},
   "outputs": [],
   "source": [
    "def load_audio(file_path, sample_rate=22050):\n",
    "    signal, original_sr = torchaudio.load(file_path)\n",
    "    signal = torchaudio.transforms.Resample(original_sr, sample_rate)(signal)\n",
    "    signal = torch.mean(signal, dim=0, keepdim=True)\n",
    "    signal = signal.numpy().squeeze()\n",
    "        \n",
    "    return (signal, sample_rate)"
   ]
  },
  {
   "cell_type": "code",
   "execution_count": 3,
   "metadata": {},
   "outputs": [],
   "source": [
    "fmin = 20\n",
    "fmax = 16000\n",
    "# References:\n",
    "# https://medium.com/@hasithsura/audio-classification-d37a82d6715\n",
    "# https://github.com/m-kortas/Sound-based-bird-species-detection/blob/master/MK_prepareData.ipynb\n",
    "def get_melspectrogram_db(file_path):\n",
    "    n_fft = 2048\n",
    "    hop_length = 512   \n",
    "    n_mels = 256\n",
    "    sample_rate = 22050\n",
    "\n",
    "    signal, sr = librosa.load(file_path, sr=sample_rate, res_type='kaiser_fast', mono=True)\n",
    "    signal = no.reduce_noise(audio_clip=signal, noise_clip=signal, verbose=False)\n",
    "\n",
    "    signal = librosa.feature.melspectrogram(\n",
    "        signal, \n",
    "        sr=sr,\n",
    "        n_fft=n_fft,\n",
    "        hop_length=hop_length,\n",
    "        n_mels=n_mels,\n",
    "        fmin=fmin,\n",
    "        fmax=fmax\n",
    "    )\n",
    "    \n",
    "    # Amount to about 216 frames per 5 seconds\n",
    "    return librosa.power_to_db(signal, ref=np.max)"
   ]
  },
  {
   "cell_type": "code",
   "execution_count": 4,
   "metadata": {},
   "outputs": [],
   "source": [
    "def process_img(img):\n",
    "    img = img[:, np.any(img > 24, axis=0)]\n",
    "\n",
    "    img = cv.GaussianBlur(img, (5,5), 0)\n",
    "    img = cv.medianBlur(img, 3)\n",
    "    \n",
    "    clahe = cv.createCLAHE(clipLimit=2.0, tileGridSize=(8,8))\n",
    "    img = clahe.apply(img)\n",
    "    \n",
    "    return img"
   ]
  },
  {
   "cell_type": "code",
   "execution_count": 5,
   "metadata": {},
   "outputs": [],
   "source": [
    "# References:\n",
    "# https://stackoverflow.com/questions/56719138/how-can-i-save-a-librosa-spectrogram-plot-as-a-specific-sized-image/57204349#57204349\n",
    "# https://medium.com/@hasithsura/audio-classification-d37a82d6715\n",
    "def spec_to_image(spec, eps=1e-6):\n",
    "    mean = spec.mean()\n",
    "    std = spec.std()\n",
    "    spec_norm = (spec - mean) / (std + eps)\n",
    "    spec_min, spec_max = spec_norm.min(), spec_norm.max()\n",
    "    spec_scaled = 255 * (spec_norm - spec_min) / (spec_max - spec_min)\n",
    "    spec_scaled = spec_scaled.astype(np.uint8)\n",
    "    spec_scaled = np.flip(spec_scaled, axis=0)\n",
    "\n",
    "    return process_img(spec_scaled)"
   ]
  },
  {
   "cell_type": "code",
   "execution_count": 6,
   "metadata": {},
   "outputs": [],
   "source": [
    "def file_to_imgs(file, bird_storage_dir, existing_file_labels=None):\n",
    "    file_label = file.split('/')[-1].split('.')[0]\n",
    "    bird = bird_storage_dir.split('/')[-1]\n",
    "\n",
    "    if existing_file_labels is not None and file_label in existing_file_labels[bird]:\n",
    "        return\n",
    "\n",
    "    try:\n",
    "        mel = get_melspectrogram_db(file)\n",
    "        img = spec_to_image(mel)\n",
    "        split_num = int(np.ceil(img.shape[1]/64500)) # about 25 mins \n",
    "        imgs = np.array_split(img, split_num, axis=1)\n",
    "\n",
    "        for i, img in enumerate(imgs):\n",
    "            mpimg.imsave(bird_storage_dir + \"/\" + file_label + '-' + str(i + 1)  + '.jpeg', img, cmap='gray')\n",
    "    except:\n",
    "        print('Failed ' + file)"
   ]
  },
  {
   "cell_type": "code",
   "execution_count": 54,
   "metadata": {},
   "outputs": [
    {
     "data": {
      "text/plain": [
       "rating                                                            3.5\n",
       "playback_used                                                      no\n",
       "ebird_code                                                     aldfly\n",
       "channels                                                   2 (stereo)\n",
       "date                                                       2013-05-30\n",
       "pitch                                                      increasing\n",
       "duration                                                           71\n",
       "filename                                                 XC135883.mp3\n",
       "speed                                                           level\n",
       "species                                              Alder Flycatcher\n",
       "number_of_notes                                                   1-3\n",
       "title                   XC135883 Alder Flycatcher (Empidonax alnorum)\n",
       "secondary_labels    ['Geothlypis trichas_Common Yellowthroat', 'Du...\n",
       "bird_seen                                                         yes\n",
       "sci_name                                            Empidonax alnorum\n",
       "location                 Scales, near Wilson Creek, Grayson, Virginia\n",
       "latitude                                                        36.65\n",
       "sampling_rate                                              44100 (Hz)\n",
       "type                                                             song\n",
       "elevation                                                      1400 m\n",
       "description         Habitat:open canopy, wet meadow/shrub bog, bir...\n",
       "bitrate_of_mp3                                           320000 (bps)\n",
       "file_type                                                         mp3\n",
       "volume                                                     increasing\n",
       "background          Common Yellowthroat (Geothlypis trichas); Grey...\n",
       "xc_id                                                          135883\n",
       "url                                 https://www.xeno-canto.org/135883\n",
       "country                                                 United States\n",
       "author                                                    Guy McGrane\n",
       "primary_label                      Empidonax alnorum_Alder Flycatcher\n",
       "longitude                                                    -81.4814\n",
       "length                                                         0-3(s)\n",
       "time                                                            10:30\n",
       "recordist                                                 Guy McGrane\n",
       "license             Creative Commons Attribution-NonCommercial-Sha...\n",
       "Name: 7, dtype: object"
      ]
     },
     "execution_count": 54,
     "metadata": {},
     "output_type": "execute_result"
    }
   ],
   "source": [
    "# Example\n",
    "train.iloc[7]"
   ]
  },
  {
   "cell_type": "code",
   "execution_count": 55,
   "metadata": {},
   "outputs": [],
   "source": [
    "file_path = './data/train_audio/aldfly/XC135883.mp3'"
   ]
  },
  {
   "cell_type": "code",
   "execution_count": 56,
   "metadata": {},
   "outputs": [
    {
     "name": "stderr",
     "output_type": "stream",
     "text": [
      "/opt/anaconda3/lib/python3.7/site-packages/librosa/core/audio.py:161: UserWarning: PySoundFile failed. Trying audioread instead.\n",
      "  warnings.warn('PySoundFile failed. Trying audioread instead.')\n"
     ]
    }
   ],
   "source": [
    "mel = get_melspectrogram_db(file_path)\n",
    "img = spec_to_image(mel)"
   ]
  },
  {
   "cell_type": "code",
   "execution_count": 57,
   "metadata": {},
   "outputs": [
    {
     "data": {
      "text/plain": [
       "(256, 3068)"
      ]
     },
     "execution_count": 57,
     "metadata": {},
     "output_type": "execute_result"
    }
   ],
   "source": [
    "img.shape"
   ]
  },
  {
   "cell_type": "code",
   "execution_count": 58,
   "metadata": {},
   "outputs": [
    {
     "data": {
      "image/png": "[encoded data removed]",
      "text/plain": [
       "<Figure size 1080x288 with 2 Axes>"
      ]
     },
     "metadata": {
      "needs_background": "light"
     },
     "output_type": "display_data"
    }
   ],
   "source": [
    "plt.figure(figsize=(15, 4))\n",
    "librosa.display.specshow(mel[:, :750], fmin=fmin, fmax=fmax, y_axis='mel', x_axis='time')\n",
    "plt.colorbar(format='%+2.0f dB')\n",
    "plt.title('Mel-scaled spectrogram')\n",
    "plt.show()"
   ]
  },
  {
   "cell_type": "code",
   "execution_count": 59,
   "metadata": {},
   "outputs": [
    {
     "data": {
      "text/plain": [
       "<matplotlib.image.AxesImage at 0x7fc44c2d7190>"
      ]
     },
     "execution_count": 59,
     "metadata": {},
     "output_type": "execute_result"
    },
    {
     "data": {
      "image/png": "[encoded data removed]",
      "text/plain": [
       "<Figure size 432x288 with 1 Axes>"
      ]
     },
     "metadata": {
      "needs_background": "light"
     },
     "output_type": "display_data"
    }
   ],
   "source": [
    "plt.imshow(img[:, :512], cmap='gray')"
   ]
  },
  {
   "cell_type": "code",
   "execution_count": 60,
   "metadata": {},
   "outputs": [],
   "source": [
    "mpimg.imsave(\"example.jpeg\", img, cmap='gray')"
   ]
  },
  {
   "cell_type": "code",
   "execution_count": 7,
   "metadata": {},
   "outputs": [],
   "source": [
    "working_dir = \"./data/train_audio/\"\n",
    "birds = []\n",
    "flist = {} \n",
    "\n",
    "for root, dirs, files in os.walk(working_dir):\n",
    "    if root == working_dir:\n",
    "        birds = dirs\n",
    "\n",
    "for i, bird in enumerate(birds):\n",
    "    blist = [] \n",
    "    \n",
    "    for root, dirs, files in os.walk(working_dir + bird):\n",
    "        for file in files:\n",
    "            if file.endswith(\".mp3\"):\n",
    "                blist.append(os.path.join(root, file))\n",
    "\n",
    "    flist[bird] = blist"
   ]
  },
  {
   "cell_type": "code",
   "execution_count": 8,
   "metadata": {},
   "outputs": [],
   "source": [
    "storage_dir = \"./data/train_img/\"\n",
    "existing_file_labels = {}\n",
    "\n",
    "for i, bird in enumerate(birds):\n",
    "    blist = [] \n",
    "    \n",
    "    for root, dirs, files in os.walk(storage_dir + bird):\n",
    "        for file in files:\n",
    "            if file.endswith(\".jpeg\"):\n",
    "                blist.append(file.split('-')[0].split('.')[0])\n",
    "\n",
    "    existing_file_labels[bird] = blist"
   ]
  },
  {
   "cell_type": "code",
   "execution_count": 9,
   "metadata": {},
   "outputs": [],
   "source": [
    "num_cores = multiprocessing.cpu_count()"
   ]
  },
  {
   "cell_type": "code",
   "execution_count": 10,
   "metadata": {},
   "outputs": [
    {
     "data": {
      "text/plain": [
       "1"
      ]
     },
     "execution_count": 10,
     "metadata": {},
     "output_type": "execute_result"
    }
   ],
   "source": [
    "len(birds)"
   ]
  },
  {
   "cell_type": "code",
   "execution_count": null,
   "metadata": {},
   "outputs": [],
   "source": [
    "birds_handled = 0\n",
    "\n",
    "for bird, files in flist.items():\n",
    "    bird_dir = storage_dir + bird\n",
    "    \n",
    "    if not os.path.exists(bird_dir):\n",
    "        os.mkdir(bird_dir)\n",
    "    \n",
    "    birds_handled += 1\n",
    "    print(birds_handled, bird)\n",
    "\n",
    "    Parallel(n_jobs=num_cores - 1)(\n",
    "        delayed(file_to_imgs)(file, storage_dir + bird, existing_file_labels) for file in files\n",
    "    )"
   ]
  },
  {
   "cell_type": "markdown",
   "metadata": {},
   "source": [
    "## Handle nocall audio files"
   ]
  },
  {
   "cell_type": "code",
   "execution_count": 32,
   "metadata": {},
   "outputs": [],
   "source": [
    "nocall_a = train = pd.read_csv('./data/nocall_a.csv')\n",
    "nocall_b = train = pd.read_csv('./data/nocall_b.csv')\n",
    "nocall_c = train = pd.read_csv('./data/nocall_c.csv')"
   ]
  },
  {
   "cell_type": "code",
   "execution_count": 33,
   "metadata": {},
   "outputs": [],
   "source": [
    "nocall = pd.concat([nocall_a, nocall_b, nocall_c])"
   ]
  },
  {
   "cell_type": "code",
   "execution_count": 34,
   "metadata": {},
   "outputs": [
    {
     "data": {
      "text/plain": [
       "(35690, 3)"
      ]
     },
     "execution_count": 34,
     "metadata": {},
     "output_type": "execute_result"
    }
   ],
   "source": [
    "nocall.shape"
   ]
  },
  {
   "cell_type": "code",
   "execution_count": 35,
   "metadata": {},
   "outputs": [
    {
     "data": {
      "text/html": [
       "<div>\n",
       "<style scoped>\n",
       "    .dataframe tbody tr th:only-of-type {\n",
       "        vertical-align: middle;\n",
       "    }\n",
       "\n",
       "    .dataframe tbody tr th {\n",
       "        vertical-align: top;\n",
       "    }\n",
       "\n",
       "    .dataframe thead th {\n",
       "        text-align: right;\n",
       "    }\n",
       "</style>\n",
       "<table border=\"1\" class=\"dataframe\">\n",
       "  <thead>\n",
       "    <tr style=\"text-align: right;\">\n",
       "      <th></th>\n",
       "      <th>itemid</th>\n",
       "      <th>datasetid</th>\n",
       "      <th>hasbird</th>\n",
       "    </tr>\n",
       "  </thead>\n",
       "  <tbody>\n",
       "    <tr>\n",
       "      <th>0</th>\n",
       "      <td>759808e5-f824-401e-9058</td>\n",
       "      <td>warblrb10k</td>\n",
       "      <td>1</td>\n",
       "    </tr>\n",
       "    <tr>\n",
       "      <th>1</th>\n",
       "      <td>1d94fc4a-1c63-4da0-9cac</td>\n",
       "      <td>warblrb10k</td>\n",
       "      <td>1</td>\n",
       "    </tr>\n",
       "    <tr>\n",
       "      <th>2</th>\n",
       "      <td>bb0099ce-3073-4613-8557</td>\n",
       "      <td>warblrb10k</td>\n",
       "      <td>1</td>\n",
       "    </tr>\n",
       "    <tr>\n",
       "      <th>3</th>\n",
       "      <td>c4c67e81-9aa8-4af4-8eb7</td>\n",
       "      <td>warblrb10k</td>\n",
       "      <td>1</td>\n",
       "    </tr>\n",
       "    <tr>\n",
       "      <th>4</th>\n",
       "      <td>ab322d4b-da69-4b06-a065</td>\n",
       "      <td>warblrb10k</td>\n",
       "      <td>0</td>\n",
       "    </tr>\n",
       "  </tbody>\n",
       "</table>\n",
       "</div>"
      ],
      "text/plain": [
       "                    itemid   datasetid  hasbird\n",
       "0  759808e5-f824-401e-9058  warblrb10k        1\n",
       "1  1d94fc4a-1c63-4da0-9cac  warblrb10k        1\n",
       "2  bb0099ce-3073-4613-8557  warblrb10k        1\n",
       "3  c4c67e81-9aa8-4af4-8eb7  warblrb10k        1\n",
       "4  ab322d4b-da69-4b06-a065  warblrb10k        0"
      ]
     },
     "execution_count": 35,
     "metadata": {},
     "output_type": "execute_result"
    }
   ],
   "source": [
    "nocall.head()"
   ]
  },
  {
   "cell_type": "code",
   "execution_count": 36,
   "metadata": {},
   "outputs": [],
   "source": [
    "nocall = nocall[nocall['hasbird'] == 0]"
   ]
  },
  {
   "cell_type": "code",
   "execution_count": 37,
   "metadata": {},
   "outputs": [
    {
     "data": {
      "text/plain": [
       "(17693, 3)"
      ]
     },
     "execution_count": 37,
     "metadata": {},
     "output_type": "execute_result"
    }
   ],
   "source": [
    "nocall.shape"
   ]
  },
  {
   "cell_type": "code",
   "execution_count": 38,
   "metadata": {},
   "outputs": [
    {
     "data": {
      "text/html": [
       "<div>\n",
       "<style scoped>\n",
       "    .dataframe tbody tr th:only-of-type {\n",
       "        vertical-align: middle;\n",
       "    }\n",
       "\n",
       "    .dataframe tbody tr th {\n",
       "        vertical-align: top;\n",
       "    }\n",
       "\n",
       "    .dataframe thead th {\n",
       "        text-align: right;\n",
       "    }\n",
       "</style>\n",
       "<table border=\"1\" class=\"dataframe\">\n",
       "  <thead>\n",
       "    <tr style=\"text-align: right;\">\n",
       "      <th></th>\n",
       "      <th>itemid</th>\n",
       "      <th>datasetid</th>\n",
       "      <th>hasbird</th>\n",
       "    </tr>\n",
       "  </thead>\n",
       "  <tbody>\n",
       "    <tr>\n",
       "      <th>4</th>\n",
       "      <td>ab322d4b-da69-4b06-a065</td>\n",
       "      <td>warblrb10k</td>\n",
       "      <td>0</td>\n",
       "    </tr>\n",
       "    <tr>\n",
       "      <th>5</th>\n",
       "      <td>519cfbe6-f804-4add-baa3</td>\n",
       "      <td>warblrb10k</td>\n",
       "      <td>0</td>\n",
       "    </tr>\n",
       "    <tr>\n",
       "      <th>13</th>\n",
       "      <td>479b90e3-85bf-403c-8298</td>\n",
       "      <td>warblrb10k</td>\n",
       "      <td>0</td>\n",
       "    </tr>\n",
       "    <tr>\n",
       "      <th>17</th>\n",
       "      <td>b7a49bf2-f898-41ec-be40</td>\n",
       "      <td>warblrb10k</td>\n",
       "      <td>0</td>\n",
       "    </tr>\n",
       "    <tr>\n",
       "      <th>20</th>\n",
       "      <td>4c6d2568-17f6-4ca7-b347</td>\n",
       "      <td>warblrb10k</td>\n",
       "      <td>0</td>\n",
       "    </tr>\n",
       "  </tbody>\n",
       "</table>\n",
       "</div>"
      ],
      "text/plain": [
       "                     itemid   datasetid  hasbird\n",
       "4   ab322d4b-da69-4b06-a065  warblrb10k        0\n",
       "5   519cfbe6-f804-4add-baa3  warblrb10k        0\n",
       "13  479b90e3-85bf-403c-8298  warblrb10k        0\n",
       "17  b7a49bf2-f898-41ec-be40  warblrb10k        0\n",
       "20  4c6d2568-17f6-4ca7-b347  warblrb10k        0"
      ]
     },
     "execution_count": 38,
     "metadata": {},
     "output_type": "execute_result"
    }
   ],
   "source": [
    "nocall.head()"
   ]
  },
  {
   "cell_type": "code",
   "execution_count": 39,
   "metadata": {},
   "outputs": [],
   "source": [
    "nocall = nocall.sample(n=10000, random_state=1)"
   ]
  },
  {
   "cell_type": "code",
   "execution_count": 40,
   "metadata": {},
   "outputs": [
    {
     "data": {
      "text/plain": [
       "(10000, 3)"
      ]
     },
     "execution_count": 40,
     "metadata": {},
     "output_type": "execute_result"
    }
   ],
   "source": [
    "nocall.shape"
   ]
  },
  {
   "cell_type": "code",
   "execution_count": 41,
   "metadata": {},
   "outputs": [],
   "source": [
    "files = nocall['itemid']"
   ]
  },
  {
   "cell_type": "code",
   "execution_count": 42,
   "metadata": {},
   "outputs": [],
   "source": [
    "files = './data/nocall/' + files.astype(str) + '.wav'"
   ]
  },
  {
   "cell_type": "code",
   "execution_count": 43,
   "metadata": {},
   "outputs": [],
   "source": [
    "results = Parallel(n_jobs=num_cores-1)(\n",
    "    delayed(file_to_imgs)(file, \"./data/train_img/nocall\") for file in files\n",
    ")"
   ]
  },
  {
   "cell_type": "code",
   "execution_count": null,
   "metadata": {},
   "outputs": [],
   "source": []
  }
 ],
 "metadata": {
  "kernelspec": {
   "display_name": "Python 3",
   "language": "python",
   "name": "python3"
  },
  "language_info": {
   "codemirror_mode": {
    "name": "ipython",
    "version": 3
   },
   "file_extension": ".py",
   "mimetype": "text/x-python",
   "name": "python",
   "nbconvert_exporter": "python",
   "pygments_lexer": "ipython3",
   "version": "3.7.4"
  }
 },
 "nbformat": 4,
 "nbformat_minor": 4
}
