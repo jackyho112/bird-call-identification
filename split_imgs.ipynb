{
 "cells": [
  {
   "cell_type": "code",
   "execution_count": 1,
   "metadata": {},
   "outputs": [],
   "source": [
    "import os\n",
    "import matplotlib.image as mpimg\n",
    "import matplotlib.pyplot as plt\n",
    "import numpy as np\n",
    "import pandas as pd\n",
    "from joblib import Parallel, delayed\n",
    "import multiprocessing\n",
    "from tqdm import tqdm\n",
    "from random import randrange"
   ]
  },
  {
   "cell_type": "code",
   "execution_count": 2,
   "metadata": {},
   "outputs": [],
   "source": [
    "def img_to_imgs(file):\n",
    "    size = 2000 # about 40 seconds\n",
    "\n",
    "    img = mpimg.imread(file)\n",
    "    \n",
    "    width = img.shape[1]\n",
    "    split_num = int(np.floor(width/size))\n",
    "    residual = width - split_num*size\n",
    "    end_split_index = width - residual\n",
    "    \n",
    "    imgs = []\n",
    "    if split_num > 0:\n",
    "        imgs = np.array_split(img[:, :end_split_index, :], split_num, axis=1)\n",
    "\n",
    "    if residual > 60: # about 1.5 seconds\n",
    "        residual_img = img[:, end_split_index:, :]\n",
    "        residual_img = np.pad(img, ((0, 0), (0, randrange(7, 13, 1)), (0, 0)), 'constant')\n",
    "        repeats = int(np.ceil(size/residual_img.shape[1]))\n",
    "        \n",
    "        imgs.append(np.tile(residual_img, (1, repeats, 1))[:, :size, :])\n",
    "    \n",
    "    return imgs"
   ]
  },
  {
   "cell_type": "code",
   "execution_count": 3,
   "metadata": {},
   "outputs": [],
   "source": [
    "def split_save_imgs(file, bird_storage_dir):\n",
    "    file_label = file.split('/')[-1].split('.')[0]\n",
    "    \n",
    "    imgs = img_to_imgs(file)\n",
    "\n",
    "    for i, img in enumerate(imgs):\n",
    "        mpimg.imsave(bird_storage_dir + \"/\" + file_label + '-' + str(i + 1)  + '.jpeg', img)"
   ]
  },
  {
   "cell_type": "code",
   "execution_count": 4,
   "metadata": {},
   "outputs": [],
   "source": [
    "def save_bird_imgs(files, bird_storage_dir): \n",
    "    if not os.path.exists(bird_storage_dir):\n",
    "        os.mkdir(bird_storage_dir)\n",
    "\n",
    "    for file in files:\n",
    "        split_save_imgs(file, bird_storage_dir)"
   ]
  },
  {
   "cell_type": "code",
   "execution_count": 5,
   "metadata": {},
   "outputs": [],
   "source": [
    "working_dir = \"./data/train_img/\"\n",
    "birds = []\n",
    "flist = {} \n",
    "\n",
    "for root, dirs, files in os.walk(working_dir):\n",
    "    if root == working_dir:\n",
    "        birds = dirs\n",
    "\n",
    "for i, bird in enumerate(birds):\n",
    "    blist = [] \n",
    "    \n",
    "    for root, dirs, files in os.walk(working_dir + bird):\n",
    "        for file in files:\n",
    "            if file.endswith(\".jpeg\") and 'ipynb_checkpoints' not in root:\n",
    "                blist.append(os.path.join(root, file))\n",
    "\n",
    "    blist.sort()\n",
    "    flist[bird] = blist"
   ]
  },
  {
   "cell_type": "code",
   "execution_count": 6,
   "metadata": {},
   "outputs": [],
   "source": [
    "num_cores = multiprocessing.cpu_count()"
   ]
  },
  {
   "cell_type": "code",
   "execution_count": null,
   "metadata": {},
   "outputs": [],
   "source": [
    "import warnings\n",
    "warnings.filterwarnings('ignore')\n",
    "\n",
    "storage_dir = \"./data/train_img_split/\"\n",
    "birds_handled = 0\n",
    "\n",
    "for bird, files in flist.items():\n",
    "    bird_dir = storage_dir + bird\n",
    "    \n",
    "    if not os.path.exists(bird_dir):\n",
    "        os.mkdir(bird_dir)\n",
    "\n",
    "    birds_handled += 1\n",
    "    print(birds_handled)\n",
    "\n",
    "    Parallel(n_jobs=num_cores - 2)(\n",
    "        delayed(split_save_imgs)(file, bird_dir) for file in files\n",
    "    )"
   ]
  },
  {
   "cell_type": "code",
   "execution_count": null,
   "metadata": {},
   "outputs": [],
   "source": []
  }
 ],
 "metadata": {
  "kernelspec": {
   "display_name": "Python 3",
   "language": "python",
   "name": "python3"
  },
  "language_info": {
   "codemirror_mode": {
    "name": "ipython",
    "version": 3
   },
   "file_extension": ".py",
   "mimetype": "text/x-python",
   "name": "python",
   "nbconvert_exporter": "python",
   "pygments_lexer": "ipython3",
   "version": "3.7.4"
  }
 },
 "nbformat": 4,
 "nbformat_minor": 4
}
