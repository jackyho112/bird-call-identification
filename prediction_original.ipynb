{
 "cells": [
  {
   "cell_type": "code",
   "execution_count": 1,
   "metadata": {
    "_kg_hide-output": true,
    "collapsed": true,
    "execution": {
     "iopub.execute_input": "2020-08-21T02:45:49.044443Z",
     "iopub.status.busy": "2020-08-21T02:45:49.043525Z",
     "iopub.status.idle": "2020-08-21T02:48:06.521144Z",
     "shell.execute_reply": "2020-08-21T02:48:06.520406Z"
    },
    "papermill": {
     "duration": 137.496488,
     "end_time": "2020-08-21T02:48:06.521297",
     "exception": false,
     "start_time": "2020-08-21T02:45:49.024809",
     "status": "completed"
    },
    "tags": []
   },
   "outputs": [
    {
     "name": "stdout",
     "output_type": "stream",
     "text": [
      "Processing /kaggle/input/birdmel/noisereduce-1.1.0/noisereduce-1.1.0\r\n",
      "Requirement already satisfied: scipy in /opt/conda/lib/python3.7/site-packages (from noisereduce==1.1.0) (1.4.1)\r\n",
      "Requirement already satisfied: matplotlib in /opt/conda/lib/python3.7/site-packages (from noisereduce==1.1.0) (3.2.1)\r\n",
      "Requirement already satisfied: librosa in /opt/conda/lib/python3.7/site-packages (from noisereduce==1.1.0) (0.8.0)\r\n",
      "Requirement already satisfied: numpy in /opt/conda/lib/python3.7/site-packages (from noisereduce==1.1.0) (1.18.5)\r\n",
      "Requirement already satisfied: tqdm in /opt/conda/lib/python3.7/site-packages (from noisereduce==1.1.0) (4.45.0)\r\n",
      "Requirement already satisfied: cycler>=0.10 in /opt/conda/lib/python3.7/site-packages (from matplotlib->noisereduce==1.1.0) (0.10.0)\r\n",
      "Requirement already satisfied: kiwisolver>=1.0.1 in /opt/conda/lib/python3.7/site-packages (from matplotlib->noisereduce==1.1.0) (1.2.0)\r\n",
      "Requirement already satisfied: pyparsing!=2.0.4,!=2.1.2,!=2.1.6,>=2.0.1 in /opt/conda/lib/python3.7/site-packages (from matplotlib->noisereduce==1.1.0) (2.4.7)\r\n",
      "Requirement already satisfied: python-dateutil>=2.1 in /opt/conda/lib/python3.7/site-packages (from matplotlib->noisereduce==1.1.0) (2.8.1)\r\n",
      "Requirement already satisfied: decorator>=3.0.0 in /opt/conda/lib/python3.7/site-packages (from librosa->noisereduce==1.1.0) (4.4.2)\r\n",
      "Requirement already satisfied: resampy>=0.2.2 in /opt/conda/lib/python3.7/site-packages (from librosa->noisereduce==1.1.0) (0.2.2)\r\n",
      "Requirement already satisfied: scikit-learn!=0.19.0,>=0.14.0 in /opt/conda/lib/python3.7/site-packages (from librosa->noisereduce==1.1.0) (0.23.2)\r\n",
      "Requirement already satisfied: joblib>=0.14 in /opt/conda/lib/python3.7/site-packages (from librosa->noisereduce==1.1.0) (0.14.1)\r\n",
      "Requirement already satisfied: audioread>=2.0.0 in /opt/conda/lib/python3.7/site-packages (from librosa->noisereduce==1.1.0) (2.1.8)\r\n",
      "Requirement already satisfied: pooch>=1.0 in /opt/conda/lib/python3.7/site-packages (from librosa->noisereduce==1.1.0) (1.1.1)\r\n",
      "Requirement already satisfied: numba>=0.43.0 in /opt/conda/lib/python3.7/site-packages (from librosa->noisereduce==1.1.0) (0.48.0)\r\n",
      "Requirement already satisfied: soundfile>=0.9.0 in /opt/conda/lib/python3.7/site-packages (from librosa->noisereduce==1.1.0) (0.10.3.post1)\r\n",
      "Requirement already satisfied: six in /opt/conda/lib/python3.7/site-packages (from cycler>=0.10->matplotlib->noisereduce==1.1.0) (1.14.0)\r\n",
      "Requirement already satisfied: threadpoolctl>=2.0.0 in /opt/conda/lib/python3.7/site-packages (from scikit-learn!=0.19.0,>=0.14.0->librosa->noisereduce==1.1.0) (2.1.0)\r\n",
      "Requirement already satisfied: requests in /opt/conda/lib/python3.7/site-packages (from pooch>=1.0->librosa->noisereduce==1.1.0) (2.23.0)\r\n",
      "Requirement already satisfied: packaging in /opt/conda/lib/python3.7/site-packages (from pooch>=1.0->librosa->noisereduce==1.1.0) (20.1)\r\n",
      "Requirement already satisfied: appdirs in /opt/conda/lib/python3.7/site-packages (from pooch>=1.0->librosa->noisereduce==1.1.0) (1.4.3)\r\n",
      "Requirement already satisfied: llvmlite<0.32.0,>=0.31.0dev0 in /opt/conda/lib/python3.7/site-packages (from numba>=0.43.0->librosa->noisereduce==1.1.0) (0.31.0)\r\n",
      "Requirement already satisfied: setuptools in /opt/conda/lib/python3.7/site-packages (from numba>=0.43.0->librosa->noisereduce==1.1.0) (46.1.3.post20200325)\r\n",
      "Requirement already satisfied: cffi>=1.0 in /opt/conda/lib/python3.7/site-packages (from soundfile>=0.9.0->librosa->noisereduce==1.1.0) (1.14.0)\r\n",
      "Requirement already satisfied: idna<3,>=2.5 in /opt/conda/lib/python3.7/site-packages (from requests->pooch>=1.0->librosa->noisereduce==1.1.0) (2.9)\r\n",
      "Requirement already satisfied: certifi>=2017.4.17 in /opt/conda/lib/python3.7/site-packages (from requests->pooch>=1.0->librosa->noisereduce==1.1.0) (2020.6.20)\r\n",
      "Requirement already satisfied: urllib3!=1.25.0,!=1.25.1,<1.26,>=1.21.1 in /opt/conda/lib/python3.7/site-packages (from requests->pooch>=1.0->librosa->noisereduce==1.1.0) (1.24.3)\r\n",
      "Requirement already satisfied: chardet<4,>=3.0.2 in /opt/conda/lib/python3.7/site-packages (from requests->pooch>=1.0->librosa->noisereduce==1.1.0) (3.0.4)\r\n",
      "Requirement already satisfied: pycparser in /opt/conda/lib/python3.7/site-packages (from cffi>=1.0->soundfile>=0.9.0->librosa->noisereduce==1.1.0) (2.20)\r\n",
      "Building wheels for collected packages: noisereduce\r\n",
      "  Building wheel for noisereduce (setup.py) ... \u001b[?25l-\b \b\\\b \bdone\r\n",
      "\u001b[?25h  Created wheel for noisereduce: filename=noisereduce-1.1.0-py3-none-any.whl size=7608 sha256=9d0ce30015fd20e035a8c57d704aad27d9e7002cf26a87cef66ec7341fc6fb31\r\n",
      "  Stored in directory: /root/.cache/pip/wheels/49/8f/7b/bf5d8c00277dd5beab590b95f4e803aca73f99a7640bee9c71\r\n",
      "Successfully built noisereduce\r\n",
      "Installing collected packages: noisereduce\r\n",
      "Successfully installed noisereduce-1.1.0\r\n",
      "Processing /kaggle/input/birdmel/Keras_Applications-1.0.8-py3-none-any.whl\r\n",
      "Requirement already satisfied: h5py in /opt/conda/lib/python3.7/site-packages (from Keras-Applications==1.0.8) (2.10.0)\r\n",
      "Requirement already satisfied: numpy>=1.9.1 in /opt/conda/lib/python3.7/site-packages (from Keras-Applications==1.0.8) (1.18.5)\r\n",
      "Requirement already satisfied: six in /opt/conda/lib/python3.7/site-packages (from h5py->Keras-Applications==1.0.8) (1.14.0)\r\n",
      "Installing collected packages: Keras-Applications\r\n",
      "Successfully installed Keras-Applications-1.0.8\r\n",
      "Processing /kaggle/input/birdmel/efficientnet-1.1.0/efficientnet-1.1.0\r\n",
      "Requirement already satisfied: keras_applications<=1.0.8,>=1.0.7 in /opt/conda/lib/python3.7/site-packages (from efficientnet==1.1.0) (1.0.8)\r\n",
      "Requirement already satisfied: scikit-image in /opt/conda/lib/python3.7/site-packages (from efficientnet==1.1.0) (0.16.2)\r\n",
      "Requirement already satisfied: h5py in /opt/conda/lib/python3.7/site-packages (from keras_applications<=1.0.8,>=1.0.7->efficientnet==1.1.0) (2.10.0)\r\n",
      "Requirement already satisfied: numpy>=1.9.1 in /opt/conda/lib/python3.7/site-packages (from keras_applications<=1.0.8,>=1.0.7->efficientnet==1.1.0) (1.18.5)\r\n",
      "Requirement already satisfied: scipy>=0.19.0 in /opt/conda/lib/python3.7/site-packages (from scikit-image->efficientnet==1.1.0) (1.4.1)\r\n",
      "Requirement already satisfied: matplotlib!=3.0.0,>=2.0.0 in /opt/conda/lib/python3.7/site-packages (from scikit-image->efficientnet==1.1.0) (3.2.1)\r\n",
      "Requirement already satisfied: networkx>=2.0 in /opt/conda/lib/python3.7/site-packages (from scikit-image->efficientnet==1.1.0) (2.4)\r\n",
      "Requirement already satisfied: pillow>=4.3.0 in /opt/conda/lib/python3.7/site-packages (from scikit-image->efficientnet==1.1.0) (7.2.0)\r\n",
      "Requirement already satisfied: imageio>=2.3.0 in /opt/conda/lib/python3.7/site-packages (from scikit-image->efficientnet==1.1.0) (2.8.0)\r\n",
      "Requirement already satisfied: PyWavelets>=0.4.0 in /opt/conda/lib/python3.7/site-packages (from scikit-image->efficientnet==1.1.0) (1.1.1)\r\n",
      "Requirement already satisfied: six in /opt/conda/lib/python3.7/site-packages (from h5py->keras_applications<=1.0.8,>=1.0.7->efficientnet==1.1.0) (1.14.0)\r\n",
      "Requirement already satisfied: python-dateutil>=2.1 in /opt/conda/lib/python3.7/site-packages (from matplotlib!=3.0.0,>=2.0.0->scikit-image->efficientnet==1.1.0) (2.8.1)\r\n",
      "Requirement already satisfied: pyparsing!=2.0.4,!=2.1.2,!=2.1.6,>=2.0.1 in /opt/conda/lib/python3.7/site-packages (from matplotlib!=3.0.0,>=2.0.0->scikit-image->efficientnet==1.1.0) (2.4.7)\r\n",
      "Requirement already satisfied: cycler>=0.10 in /opt/conda/lib/python3.7/site-packages (from matplotlib!=3.0.0,>=2.0.0->scikit-image->efficientnet==1.1.0) (0.10.0)\r\n",
      "Requirement already satisfied: kiwisolver>=1.0.1 in /opt/conda/lib/python3.7/site-packages (from matplotlib!=3.0.0,>=2.0.0->scikit-image->efficientnet==1.1.0) (1.2.0)\r\n",
      "Requirement already satisfied: decorator>=4.3.0 in /opt/conda/lib/python3.7/site-packages (from networkx>=2.0->scikit-image->efficientnet==1.1.0) (4.4.2)\r\n",
      "Building wheels for collected packages: efficientnet\r\n",
      "  Building wheel for efficientnet (setup.py) ... \u001b[?25l-\b \b\\\b \bdone\r\n",
      "\u001b[?25h  Created wheel for efficientnet: filename=efficientnet-1.1.0-py3-none-any.whl size=14141 sha256=68c256f5da6edf8c3366827c6f46538c2eed973451a44e595430845649556a86\r\n",
      "  Stored in directory: /root/.cache/pip/wheels/fa/91/d3/2401dc7a5a531245ffc84b63cd11d6594f132c41a1382ec230\r\n",
      "Successfully built efficientnet\r\n",
      "Installing collected packages: efficientnet\r\n",
      "Successfully installed efficientnet-1.1.0\r\n",
      "Processing /kaggle/input/birdmel/tensorflow_addons-0.11.1-cp37-cp37m-manylinux2010_x86_64.whl\r\n",
      "Requirement already satisfied: typeguard>=2.7 in /opt/conda/lib/python3.7/site-packages (from tensorflow-addons==0.11.1) (2.9.1)\r\n",
      "Installing collected packages: tensorflow-addons\r\n",
      "  Attempting uninstall: tensorflow-addons\r\n",
      "    Found existing installation: tensorflow-addons 0.10.0\r\n",
      "    Uninstalling tensorflow-addons-0.10.0:\r\n",
      "      Successfully uninstalled tensorflow-addons-0.10.0\r\n",
      "Successfully installed tensorflow-addons-0.11.1\r\n"
     ]
    }
   ],
   "source": [
    "!pip install '../input/birdmel/noisereduce-1.1.0/noisereduce-1.1.0'\n",
    "!pip install '../input/birdmel/Keras_Applications-1.0.8-py3-none-any.whl'\n",
    "!pip install '../input/birdmel/efficientnet-1.1.0/efficientnet-1.1.0'\n",
    "!pip install '../input/birdmel/tensorflow_addons-0.11.1-cp37-cp37m-manylinux2010_x86_64.whl'"
   ]
  },
  {
   "cell_type": "code",
   "execution_count": 2,
   "metadata": {
    "_cell_guid": "79c7e3d0-c299-4dcb-8224-4455121ee9b0",
    "_kg_hide-output": true,
    "_uuid": "d629ff2d2480ee46fbb7e2d37f6b5fab8052498a",
    "execution": {
     "iopub.execute_input": "2020-08-21T02:48:06.616210Z",
     "iopub.status.busy": "2020-08-21T02:48:06.615492Z",
     "iopub.status.idle": "2020-08-21T02:48:15.261801Z",
     "shell.execute_reply": "2020-08-21T02:48:15.260549Z"
    },
    "papermill": {
     "duration": 8.697099,
     "end_time": "2020-08-21T02:48:15.261942",
     "exception": false,
     "start_time": "2020-08-21T02:48:06.564843",
     "status": "completed"
    },
    "tags": []
   },
   "outputs": [],
   "source": [
    "import numpy as np \n",
    "import pandas as pd\n",
    "\n",
    "import tensorflow as tf\n",
    "\n",
    "import librosa\n",
    "import torchaudio\n",
    "import noisereduce as no\n",
    "import cv2\n",
    "import matplotlib.pyplot as plt\n",
    "\n",
    "import efficientnet.tfkeras as efn\n",
    "import tensorflow_addons as tfa\n",
    "\n",
    "import functools\n",
    "import operator\n",
    "import time\n",
    "import torch"
   ]
  },
  {
   "cell_type": "markdown",
   "execution_count": null,
   "metadata": {
    "papermill": {
     "duration": 0.030897,
     "end_time": "2020-08-21T02:48:15.326931",
     "exception": false,
     "start_time": "2020-08-21T02:48:15.296034",
     "status": "completed"
    },
    "tags": []
   },
   "source": [
    "## Load a pretrained EfficientNetB5 model"
   ]
  },
  {
   "cell_type": "code",
   "execution_count": 3,
   "metadata": {
    "execution": {
     "iopub.execute_input": "2020-08-21T02:48:15.397534Z",
     "iopub.status.busy": "2020-08-21T02:48:15.395559Z",
     "iopub.status.idle": "2020-08-21T02:48:15.398186Z",
     "shell.execute_reply": "2020-08-21T02:48:15.398653Z"
    },
    "papermill": {
     "duration": 0.040354,
     "end_time": "2020-08-21T02:48:15.398777",
     "exception": false,
     "start_time": "2020-08-21T02:48:15.358423",
     "status": "completed"
    },
    "tags": []
   },
   "outputs": [],
   "source": [
    "batch_size = 16\n",
    "img_size = (256, 5150)\n",
    "seed = 1\n",
    "storage_dir = '../input/birdmel/train_img_split/train_img_split'"
   ]
  },
  {
   "cell_type": "code",
   "execution_count": 4,
   "metadata": {
    "execution": {
     "iopub.execute_input": "2020-08-21T02:48:15.467807Z",
     "iopub.status.busy": "2020-08-21T02:48:15.466978Z",
     "iopub.status.idle": "2020-08-21T02:48:27.513118Z",
     "shell.execute_reply": "2020-08-21T02:48:27.512440Z"
    },
    "papermill": {
     "duration": 12.082076,
     "end_time": "2020-08-21T02:48:27.513240",
     "exception": false,
     "start_time": "2020-08-21T02:48:15.431164",
     "status": "completed"
    },
    "tags": []
   },
   "outputs": [
    {
     "name": "stdout",
     "output_type": "stream",
     "text": [
      "Found 50303 files belonging to 264 classes.\n",
      "Using 503 files for validation.\n"
     ]
    }
   ],
   "source": [
    "val_ds = tf.keras.preprocessing.image_dataset_from_directory(\n",
    "    storage_dir,\n",
    "    validation_split=0.01,\n",
    "    subset=\"validation\",\n",
    "    seed=seed,\n",
    "    image_size=img_size,\n",
    "    batch_size=batch_size,\n",
    "    label_mode='categorical'\n",
    ")"
   ]
  },
  {
   "cell_type": "code",
   "execution_count": 5,
   "metadata": {
    "execution": {
     "iopub.execute_input": "2020-08-21T02:48:27.587375Z",
     "iopub.status.busy": "2020-08-21T02:48:27.585258Z",
     "iopub.status.idle": "2020-08-21T02:48:27.588029Z",
     "shell.execute_reply": "2020-08-21T02:48:27.588597Z"
    },
    "papermill": {
     "duration": 0.04202,
     "end_time": "2020-08-21T02:48:27.588725",
     "exception": false,
     "start_time": "2020-08-21T02:48:27.546705",
     "status": "completed"
    },
    "tags": []
   },
   "outputs": [],
   "source": [
    "class_names = np.array(val_ds.class_names)\n",
    "class_num = len(val_ds.class_names)"
   ]
  },
  {
   "cell_type": "code",
   "execution_count": 6,
   "metadata": {
    "execution": {
     "iopub.execute_input": "2020-08-21T02:48:27.660484Z",
     "iopub.status.busy": "2020-08-21T02:48:27.659839Z",
     "iopub.status.idle": "2020-08-21T02:48:27.668698Z",
     "shell.execute_reply": "2020-08-21T02:48:27.668198Z"
    },
    "papermill": {
     "duration": 0.048428,
     "end_time": "2020-08-21T02:48:27.668799",
     "exception": false,
     "start_time": "2020-08-21T02:48:27.620371",
     "status": "completed"
    },
    "tags": []
   },
   "outputs": [],
   "source": [
    "normalization_layer = tf.keras.layers.experimental.preprocessing.Rescaling(scale=1./127.5, offset=-1)\n",
    "\n",
    "def resize(image, height=256, width=256):\n",
    "    return tf.image.resize_with_crop_or_pad(image, target_height=height, target_width=width)\n",
    "\n",
    "def augment_image_test(image):\n",
    "    image = resize(image, 256, 216)\n",
    "    image = resize(image)\n",
    "    image = normalization_layer(image)\n",
    "\n",
    "    return image\n",
    "\n",
    "def prepare(ds):\n",
    "    return ds.map(lambda x, y: (augment_image_test(x), y))"
   ]
  },
  {
   "cell_type": "code",
   "execution_count": 7,
   "metadata": {
    "execution": {
     "iopub.execute_input": "2020-08-21T02:48:27.736184Z",
     "iopub.status.busy": "2020-08-21T02:48:27.735557Z",
     "iopub.status.idle": "2020-08-21T02:48:34.490516Z",
     "shell.execute_reply": "2020-08-21T02:48:34.489909Z"
    },
    "papermill": {
     "duration": 6.790999,
     "end_time": "2020-08-21T02:48:34.490648",
     "exception": false,
     "start_time": "2020-08-21T02:48:27.699649",
     "status": "completed"
    },
    "tags": []
   },
   "outputs": [],
   "source": [
    "net = tf.keras.models.load_model('../input/birdmel/efficientnet_b5_tf_2_3_0.h5')"
   ]
  },
  {
   "cell_type": "markdown",
   "execution_count": null,
   "metadata": {
    "papermill": {
     "duration": 0.032668,
     "end_time": "2020-08-21T02:48:34.555376",
     "exception": false,
     "start_time": "2020-08-21T02:48:34.522708",
     "status": "completed"
    },
    "tags": []
   },
   "source": [
    "## Prediction"
   ]
  },
  {
   "cell_type": "code",
   "execution_count": 8,
   "metadata": {
    "execution": {
     "iopub.execute_input": "2020-08-21T02:48:34.630152Z",
     "iopub.status.busy": "2020-08-21T02:48:34.629284Z",
     "iopub.status.idle": "2020-08-21T02:48:34.633733Z",
     "shell.execute_reply": "2020-08-21T02:48:34.633083Z"
    },
    "papermill": {
     "duration": 0.044276,
     "end_time": "2020-08-21T02:48:34.633902",
     "exception": false,
     "start_time": "2020-08-21T02:48:34.589626",
     "status": "completed"
    },
    "tags": []
   },
   "outputs": [],
   "source": [
    "def load_audio_fast(file_path):\n",
    "    sample_rate = 22050\n",
    "    signal, sr = torchaudio.load(file_path, normalization=False)\n",
    "    signal = torchaudio.transforms.Resample(sr, sample_rate)(signal)\n",
    "    signal = torch.mean(signal, dim=0, keepdim=True)\n",
    "    signal = signal.cpu().numpy().squeeze()\n",
    "        \n",
    "    return (signal, sample_rate)"
   ]
  },
  {
   "cell_type": "code",
   "execution_count": 9,
   "metadata": {
    "execution": {
     "iopub.execute_input": "2020-08-21T02:48:34.709545Z",
     "iopub.status.busy": "2020-08-21T02:48:34.708744Z",
     "iopub.status.idle": "2020-08-21T02:48:34.712386Z",
     "shell.execute_reply": "2020-08-21T02:48:34.711866Z"
    },
    "papermill": {
     "duration": 0.04501,
     "end_time": "2020-08-21T02:48:34.712490",
     "exception": false,
     "start_time": "2020-08-21T02:48:34.667480",
     "status": "completed"
    },
    "tags": []
   },
   "outputs": [],
   "source": [
    "def get_melspectrogram_db(file_path):\n",
    "    n_fft = 2048\n",
    "    hop_length = 512   \n",
    "    n_mels = 256\n",
    "    fmin = 300\n",
    "\n",
    "    signal, sr = load_audio_fast(file_path)\n",
    "    \n",
    "    signal = no.reduce_noise(audio_clip=signal, noise_clip=signal, verbose=False)\n",
    "\n",
    "    spec = librosa.feature.melspectrogram(\n",
    "        signal, \n",
    "        sr=sr, \n",
    "        n_fft=n_fft,\n",
    "        hop_length=hop_length,\n",
    "        n_mels=n_mels,\n",
    "        fmin=fmin\n",
    "    )\n",
    "    \n",
    "    return (librosa.power_to_db(spec, ref=np.max), signal.shape[0]/sr)"
   ]
  },
  {
   "cell_type": "code",
   "execution_count": 10,
   "metadata": {
    "execution": {
     "iopub.execute_input": "2020-08-21T02:48:34.789013Z",
     "iopub.status.busy": "2020-08-21T02:48:34.786914Z",
     "iopub.status.idle": "2020-08-21T02:48:34.789769Z",
     "shell.execute_reply": "2020-08-21T02:48:34.790262Z"
    },
    "papermill": {
     "duration": 0.044473,
     "end_time": "2020-08-21T02:48:34.790411",
     "exception": false,
     "start_time": "2020-08-21T02:48:34.745938",
     "status": "completed"
    },
    "tags": []
   },
   "outputs": [],
   "source": [
    "def spec_to_image(spec, eps=1e-6):\n",
    "    mean = spec.mean()\n",
    "    std = spec.std()\n",
    "    spec_norm = (spec - mean) / (std + eps)\n",
    "    spec_min, spec_max = spec_norm.min(), spec_norm.max()\n",
    "    spec_scaled = 255 * (spec_norm - spec_min) / (spec_max - spec_min)\n",
    "    spec_scaled = spec_scaled.astype(np.uint8)\n",
    "    spec_scaled = np.flip(spec_scaled, axis=0)\n",
    "\n",
    "    return spec_scaled"
   ]
  },
  {
   "cell_type": "code",
   "execution_count": 11,
   "metadata": {
    "execution": {
     "iopub.execute_input": "2020-08-21T02:48:34.867591Z",
     "iopub.status.busy": "2020-08-21T02:48:34.865515Z",
     "iopub.status.idle": "2020-08-21T02:48:34.868520Z",
     "shell.execute_reply": "2020-08-21T02:48:34.869043Z"
    },
    "papermill": {
     "duration": 0.045731,
     "end_time": "2020-08-21T02:48:34.869176",
     "exception": false,
     "start_time": "2020-08-21T02:48:34.823445",
     "status": "completed"
    },
    "tags": []
   },
   "outputs": [],
   "source": [
    "def img_to_imgs(img):\n",
    "    size = 216 # 5 seconds\n",
    "    \n",
    "    width = img.shape[1]\n",
    "    split_num = int(np.floor(width/size))\n",
    "    residual = width - split_num*size\n",
    "    end_split_index = width - residual\n",
    "    \n",
    "    imgs = []\n",
    "    if split_num > 0:\n",
    "        imgs = np.array_split(img[:, :end_split_index, :], split_num, axis=1)\n",
    "\n",
    "    if residual > 0:\n",
    "        imgs.append(img[:, end_split_index:, :])\n",
    "    \n",
    "    return imgs"
   ]
  },
  {
   "cell_type": "code",
   "execution_count": 12,
   "metadata": {
    "execution": {
     "iopub.execute_input": "2020-08-21T02:48:34.946511Z",
     "iopub.status.busy": "2020-08-21T02:48:34.945687Z",
     "iopub.status.idle": "2020-08-21T02:48:34.949621Z",
     "shell.execute_reply": "2020-08-21T02:48:34.949042Z"
    },
    "papermill": {
     "duration": 0.047134,
     "end_time": "2020-08-21T02:48:34.949736",
     "exception": false,
     "start_time": "2020-08-21T02:48:34.902602",
     "status": "completed"
    },
    "tags": []
   },
   "outputs": [],
   "source": [
    "def get_file_img(file):\n",
    "    mel, time = get_melspectrogram_db(file)\n",
    "    img = spec_to_image(mel)\n",
    "    return (img, time)\n",
    "\n",
    "def convert_img(full_img, time, offset=0, duration=5):    \n",
    "    frame_per_second = full_img.shape[1]/time\n",
    "    \n",
    "    starting_index = int(np.floor(offset*frame_per_second))\n",
    "    if duration is None:\n",
    "        img = full_img[:, starting_index:]\n",
    "    else:\n",
    "        img = full_img[:, starting_index:int(starting_index + np.ceil(duration*frame_per_second))]\n",
    "\n",
    "    img = cv2.merge((img,img,img))\n",
    "    imgs = img_to_imgs(img)\n",
    "\n",
    "    return imgs"
   ]
  },
  {
   "cell_type": "code",
   "execution_count": 13,
   "metadata": {
    "execution": {
     "iopub.execute_input": "2020-08-21T02:48:35.028505Z",
     "iopub.status.busy": "2020-08-21T02:48:35.026298Z",
     "iopub.status.idle": "2020-08-21T02:48:35.029300Z",
     "shell.execute_reply": "2020-08-21T02:48:35.029813Z"
    },
    "papermill": {
     "duration": 0.046107,
     "end_time": "2020-08-21T02:48:35.029958",
     "exception": false,
     "start_time": "2020-08-21T02:48:34.983851",
     "status": "completed"
    },
    "tags": []
   },
   "outputs": [],
   "source": [
    "def predict_imgs(model, class_names, imgs, threshold = 0.9):\n",
    "    tensors = list(map(lambda x: tf.expand_dims(augment_image_test(x), 0), imgs))\n",
    "    batch = np.vstack(tensors)\n",
    "    probas = net.predict(x=batch)\n",
    "    selected_class_names = list(set(functools.reduce(\n",
    "        lambda y, x: operator.iconcat(y, list(class_names[x >= threshold])), \n",
    "        probas, \n",
    "        []\n",
    "    )))\n",
    "    \n",
    "    selected_class_names.sort()\n",
    "    \n",
    "    return selected_class_names"
   ]
  },
  {
   "cell_type": "code",
   "execution_count": 14,
   "metadata": {
    "execution": {
     "iopub.execute_input": "2020-08-21T02:48:35.110412Z",
     "iopub.status.busy": "2020-08-21T02:48:35.109724Z",
     "iopub.status.idle": "2020-08-21T02:48:35.113228Z",
     "shell.execute_reply": "2020-08-21T02:48:35.112669Z"
    },
    "papermill": {
     "duration": 0.049349,
     "end_time": "2020-08-21T02:48:35.113351",
     "exception": false,
     "start_time": "2020-08-21T02:48:35.064002",
     "status": "completed"
    },
    "tags": []
   },
   "outputs": [],
   "source": [
    "def predict(test_folder='birdsong-recognition'):\n",
    "    audio_dir = '../input/' + test_folder + '/test_audio/'\n",
    "    df = pd.read_csv('../input/' + test_folder + '/test.csv')\n",
    "    df = df.sort_values(by=['audio_id'])\n",
    "\n",
    "    row_ids = []\n",
    "    birds = []    \n",
    "    \n",
    "    current_filename = None\n",
    "    current_img = None\n",
    "    current_time = None\n",
    "    for index, row in df.iterrows():\n",
    "        row_id = row['row_id']\n",
    "        filename = row['audio_id']\n",
    "        site = row['site']\n",
    "        file = audio_dir + filename + '.mp3'\n",
    "\n",
    "        if current_filename != filename:\n",
    "            current_filename = filename\n",
    "            current_img, current_time = get_file_img(file)\n",
    "        \n",
    "        if site == 'site_3':\n",
    "            images = convert_img(current_img, current_time, offset=0, duration=None)\n",
    "        else:\n",
    "            images = convert_img(current_img, current_time, offset=row['seconds'] - 5)\n",
    "        \n",
    "        preds = predict_imgs(net, class_names, images)\n",
    "        row_ids.append(row_id)\n",
    "        birds.append(preds)\n",
    "        \n",
    "    return pd.DataFrame({\n",
    "        'row_id': row_ids,\n",
    "        'birds': list(map(lambda x: 'nocall' if len(x) == 0 else ' '.join(x), birds))\n",
    "    })"
   ]
  },
  {
   "cell_type": "code",
   "execution_count": 15,
   "metadata": {
    "_kg_hide-output": true,
    "execution": {
     "iopub.execute_input": "2020-08-21T02:48:35.186755Z",
     "iopub.status.busy": "2020-08-21T02:48:35.185814Z",
     "iopub.status.idle": "2020-08-21T02:49:18.920705Z",
     "shell.execute_reply": "2020-08-21T02:49:18.919672Z"
    },
    "papermill": {
     "duration": 43.77549,
     "end_time": "2020-08-21T02:49:18.920851",
     "exception": false,
     "start_time": "2020-08-21T02:48:35.145361",
     "status": "completed"
    },
    "tags": []
   },
   "outputs": [],
   "source": [
    "import warnings\n",
    "warnings.filterwarnings('ignore')\n",
    "\n",
    "try:\n",
    "    sub_df = predict(test_folder='birdsong-recognition')\n",
    "except:\n",
    "    sub_df = predict(test_folder='birdcall-check')"
   ]
  },
  {
   "cell_type": "code",
   "execution_count": 16,
   "metadata": {
    "execution": {
     "iopub.execute_input": "2020-08-21T02:49:18.989343Z",
     "iopub.status.busy": "2020-08-21T02:49:18.988460Z",
     "iopub.status.idle": "2020-08-21T02:49:19.048204Z",
     "shell.execute_reply": "2020-08-21T02:49:19.047230Z"
    },
    "papermill": {
     "duration": 0.095504,
     "end_time": "2020-08-21T02:49:19.048340",
     "exception": false,
     "start_time": "2020-08-21T02:49:18.952836",
     "status": "completed"
    },
    "tags": []
   },
   "outputs": [],
   "source": [
    "sub_df.to_csv('submission.csv', index=False)"
   ]
  },
  {
   "cell_type": "code",
   "execution_count": 17,
   "metadata": {
    "execution": {
     "iopub.execute_input": "2020-08-21T02:49:19.115072Z",
     "iopub.status.busy": "2020-08-21T02:49:19.114481Z",
     "iopub.status.idle": "2020-08-21T02:49:19.118134Z",
     "shell.execute_reply": "2020-08-21T02:49:19.118715Z"
    },
    "papermill": {
     "duration": 0.039177,
     "end_time": "2020-08-21T02:49:19.118852",
     "exception": false,
     "start_time": "2020-08-21T02:49:19.079675",
     "status": "completed"
    },
    "tags": []
   },
   "outputs": [],
   "source": [
    "# sub_df = sub_df.sort_values(by=['row_id']).reset_index(drop=True)\n",
    "# sample_sub = pd.read_csv('../input/birdmel/sample_submission.csv').sort_values(by=['row_id']).reset_index(drop=True)"
   ]
  },
  {
   "cell_type": "code",
   "execution_count": 18,
   "metadata": {
    "execution": {
     "iopub.execute_input": "2020-08-21T02:49:19.186057Z",
     "iopub.status.busy": "2020-08-21T02:49:19.184251Z",
     "iopub.status.idle": "2020-08-21T02:49:19.186799Z",
     "shell.execute_reply": "2020-08-21T02:49:19.187243Z"
    },
    "papermill": {
     "duration": 0.037383,
     "end_time": "2020-08-21T02:49:19.187376",
     "exception": false,
     "start_time": "2020-08-21T02:49:19.149993",
     "status": "completed"
    },
    "tags": []
   },
   "outputs": [],
   "source": [
    "# sum(sub_df['birds'] != sample_sub['birds'])"
   ]
  },
  {
   "cell_type": "code",
   "execution_count": null,
   "metadata": {
    "papermill": {
     "duration": 0.030515,
     "end_time": "2020-08-21T02:49:19.248858",
     "exception": false,
     "start_time": "2020-08-21T02:49:19.218343",
     "status": "completed"
    },
    "tags": []
   },
   "outputs": [],
   "source": []
  }
 ],
 "metadata": {
  "kernelspec": {
   "display_name": "Python 3",
   "language": "python",
   "name": "python3"
  },
  "language_info": {
   "codemirror_mode": {
    "name": "ipython",
    "version": 3
   },
   "file_extension": ".py",
   "mimetype": "text/x-python",
   "name": "python",
   "nbconvert_exporter": "python",
   "pygments_lexer": "ipython3",
   "version": "3.7.6"
  },
  "papermill": {
   "duration": 216.06833,
   "end_time": "2020-08-21T02:49:20.645619",
   "environment_variables": {},
   "exception": null,
   "input_path": "__notebook__.ipynb",
   "output_path": "__notebook__.ipynb",
   "parameters": {},
   "start_time": "2020-08-21T02:45:44.577289",
   "version": "2.1.0"
  }
 },
 "nbformat": 4,
 "nbformat_minor": 4
}
