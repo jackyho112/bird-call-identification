{
 "cells": [
  {
   "cell_type": "code",
   "execution_count": 1,
   "metadata": {
    "_kg_hide-output": true,
    "collapsed": true,
    "execution": {
     "iopub.execute_input": "2020-08-22T05:11:40.260747Z",
     "iopub.status.busy": "2020-08-22T05:11:40.259458Z",
     "iopub.status.idle": "2020-08-22T05:13:51.843611Z",
     "shell.execute_reply": "2020-08-22T05:13:51.842936Z"
    },
    "papermill": {
     "duration": 131.609014,
     "end_time": "2020-08-22T05:13:51.843750",
     "exception": false,
     "start_time": "2020-08-22T05:11:40.234736",
     "status": "completed"
    },
    "tags": []
   },
   "outputs": [
    {
     "name": "stdout",
     "output_type": "stream",
     "text": [
      "Processing /kaggle/input/birdmel/noisereduce-1.1.0/noisereduce-1.1.0\r\n",
      "Requirement already satisfied: scipy in /opt/conda/lib/python3.7/site-packages (from noisereduce==1.1.0) (1.4.1)\r\n",
      "Requirement already satisfied: matplotlib in /opt/conda/lib/python3.7/site-packages (from noisereduce==1.1.0) (3.2.1)\r\n",
      "Requirement already satisfied: librosa in /opt/conda/lib/python3.7/site-packages (from noisereduce==1.1.0) (0.8.0)\r\n",
      "Requirement already satisfied: numpy in /opt/conda/lib/python3.7/site-packages (from noisereduce==1.1.0) (1.18.5)\r\n",
      "Requirement already satisfied: tqdm in /opt/conda/lib/python3.7/site-packages (from noisereduce==1.1.0) (4.45.0)\r\n",
      "Requirement already satisfied: kiwisolver>=1.0.1 in /opt/conda/lib/python3.7/site-packages (from matplotlib->noisereduce==1.1.0) (1.2.0)\r\n",
      "Requirement already satisfied: python-dateutil>=2.1 in /opt/conda/lib/python3.7/site-packages (from matplotlib->noisereduce==1.1.0) (2.8.1)\r\n",
      "Requirement already satisfied: pyparsing!=2.0.4,!=2.1.2,!=2.1.6,>=2.0.1 in /opt/conda/lib/python3.7/site-packages (from matplotlib->noisereduce==1.1.0) (2.4.7)\r\n",
      "Requirement already satisfied: cycler>=0.10 in /opt/conda/lib/python3.7/site-packages (from matplotlib->noisereduce==1.1.0) (0.10.0)\r\n",
      "Requirement already satisfied: joblib>=0.14 in /opt/conda/lib/python3.7/site-packages (from librosa->noisereduce==1.1.0) (0.14.1)\r\n",
      "Requirement already satisfied: resampy>=0.2.2 in /opt/conda/lib/python3.7/site-packages (from librosa->noisereduce==1.1.0) (0.2.2)\r\n",
      "Requirement already satisfied: scikit-learn!=0.19.0,>=0.14.0 in /opt/conda/lib/python3.7/site-packages (from librosa->noisereduce==1.1.0) (0.23.2)\r\n",
      "Requirement already satisfied: soundfile>=0.9.0 in /opt/conda/lib/python3.7/site-packages (from librosa->noisereduce==1.1.0) (0.10.3.post1)\r\n",
      "Requirement already satisfied: audioread>=2.0.0 in /opt/conda/lib/python3.7/site-packages (from librosa->noisereduce==1.1.0) (2.1.8)\r\n",
      "Requirement already satisfied: pooch>=1.0 in /opt/conda/lib/python3.7/site-packages (from librosa->noisereduce==1.1.0) (1.1.1)\r\n",
      "Requirement already satisfied: decorator>=3.0.0 in /opt/conda/lib/python3.7/site-packages (from librosa->noisereduce==1.1.0) (4.4.2)\r\n",
      "Requirement already satisfied: numba>=0.43.0 in /opt/conda/lib/python3.7/site-packages (from librosa->noisereduce==1.1.0) (0.48.0)\r\n",
      "Requirement already satisfied: six>=1.5 in /opt/conda/lib/python3.7/site-packages (from python-dateutil>=2.1->matplotlib->noisereduce==1.1.0) (1.14.0)\r\n",
      "Requirement already satisfied: threadpoolctl>=2.0.0 in /opt/conda/lib/python3.7/site-packages (from scikit-learn!=0.19.0,>=0.14.0->librosa->noisereduce==1.1.0) (2.1.0)\r\n",
      "Requirement already satisfied: cffi>=1.0 in /opt/conda/lib/python3.7/site-packages (from soundfile>=0.9.0->librosa->noisereduce==1.1.0) (1.14.0)\r\n",
      "Requirement already satisfied: appdirs in /opt/conda/lib/python3.7/site-packages (from pooch>=1.0->librosa->noisereduce==1.1.0) (1.4.3)\r\n",
      "Requirement already satisfied: packaging in /opt/conda/lib/python3.7/site-packages (from pooch>=1.0->librosa->noisereduce==1.1.0) (20.1)\r\n",
      "Requirement already satisfied: requests in /opt/conda/lib/python3.7/site-packages (from pooch>=1.0->librosa->noisereduce==1.1.0) (2.23.0)\r\n",
      "Requirement already satisfied: setuptools in /opt/conda/lib/python3.7/site-packages (from numba>=0.43.0->librosa->noisereduce==1.1.0) (46.1.3.post20200325)\r\n",
      "Requirement already satisfied: llvmlite<0.32.0,>=0.31.0dev0 in /opt/conda/lib/python3.7/site-packages (from numba>=0.43.0->librosa->noisereduce==1.1.0) (0.31.0)\r\n",
      "Requirement already satisfied: pycparser in /opt/conda/lib/python3.7/site-packages (from cffi>=1.0->soundfile>=0.9.0->librosa->noisereduce==1.1.0) (2.20)\r\n",
      "Requirement already satisfied: idna<3,>=2.5 in /opt/conda/lib/python3.7/site-packages (from requests->pooch>=1.0->librosa->noisereduce==1.1.0) (2.9)\r\n",
      "Requirement already satisfied: certifi>=2017.4.17 in /opt/conda/lib/python3.7/site-packages (from requests->pooch>=1.0->librosa->noisereduce==1.1.0) (2020.6.20)\r\n",
      "Requirement already satisfied: chardet<4,>=3.0.2 in /opt/conda/lib/python3.7/site-packages (from requests->pooch>=1.0->librosa->noisereduce==1.1.0) (3.0.4)\r\n",
      "Requirement already satisfied: urllib3!=1.25.0,!=1.25.1,<1.26,>=1.21.1 in /opt/conda/lib/python3.7/site-packages (from requests->pooch>=1.0->librosa->noisereduce==1.1.0) (1.24.3)\r\n",
      "Building wheels for collected packages: noisereduce\r\n",
      "  Building wheel for noisereduce (setup.py) ... \u001b[?25l-\b \b\\\b \bdone\r\n",
      "\u001b[?25h  Created wheel for noisereduce: filename=noisereduce-1.1.0-py3-none-any.whl size=7608 sha256=8035c1dd5b8d89f4a5f3d44f259bb0a34d10bf1f4e5993fd0bd86c57fbf39604\r\n",
      "  Stored in directory: /root/.cache/pip/wheels/49/8f/7b/bf5d8c00277dd5beab590b95f4e803aca73f99a7640bee9c71\r\n",
      "Successfully built noisereduce\r\n",
      "Installing collected packages: noisereduce\r\n",
      "Successfully installed noisereduce-1.1.0\r\n",
      "Processing /kaggle/input/birdmel/Keras_Applications-1.0.8-py3-none-any.whl\r\n",
      "Requirement already satisfied: h5py in /opt/conda/lib/python3.7/site-packages (from Keras-Applications==1.0.8) (2.10.0)\r\n",
      "Requirement already satisfied: numpy>=1.9.1 in /opt/conda/lib/python3.7/site-packages (from Keras-Applications==1.0.8) (1.18.5)\r\n",
      "Requirement already satisfied: six in /opt/conda/lib/python3.7/site-packages (from h5py->Keras-Applications==1.0.8) (1.14.0)\r\n",
      "Installing collected packages: Keras-Applications\r\n",
      "Successfully installed Keras-Applications-1.0.8\r\n",
      "Processing /kaggle/input/birdmel/efficientnet-1.1.0/efficientnet-1.1.0\r\n",
      "Requirement already satisfied: keras_applications<=1.0.8,>=1.0.7 in /opt/conda/lib/python3.7/site-packages (from efficientnet==1.1.0) (1.0.8)\r\n",
      "Requirement already satisfied: scikit-image in /opt/conda/lib/python3.7/site-packages (from efficientnet==1.1.0) (0.16.2)\r\n",
      "Requirement already satisfied: numpy>=1.9.1 in /opt/conda/lib/python3.7/site-packages (from keras_applications<=1.0.8,>=1.0.7->efficientnet==1.1.0) (1.18.5)\r\n",
      "Requirement already satisfied: h5py in /opt/conda/lib/python3.7/site-packages (from keras_applications<=1.0.8,>=1.0.7->efficientnet==1.1.0) (2.10.0)\r\n",
      "Requirement already satisfied: scipy>=0.19.0 in /opt/conda/lib/python3.7/site-packages (from scikit-image->efficientnet==1.1.0) (1.4.1)\r\n",
      "Requirement already satisfied: matplotlib!=3.0.0,>=2.0.0 in /opt/conda/lib/python3.7/site-packages (from scikit-image->efficientnet==1.1.0) (3.2.1)\r\n",
      "Requirement already satisfied: networkx>=2.0 in /opt/conda/lib/python3.7/site-packages (from scikit-image->efficientnet==1.1.0) (2.4)\r\n",
      "Requirement already satisfied: pillow>=4.3.0 in /opt/conda/lib/python3.7/site-packages (from scikit-image->efficientnet==1.1.0) (7.2.0)\r\n",
      "Requirement already satisfied: imageio>=2.3.0 in /opt/conda/lib/python3.7/site-packages (from scikit-image->efficientnet==1.1.0) (2.8.0)\r\n",
      "Requirement already satisfied: PyWavelets>=0.4.0 in /opt/conda/lib/python3.7/site-packages (from scikit-image->efficientnet==1.1.0) (1.1.1)\r\n",
      "Requirement already satisfied: six in /opt/conda/lib/python3.7/site-packages (from h5py->keras_applications<=1.0.8,>=1.0.7->efficientnet==1.1.0) (1.14.0)\r\n",
      "Requirement already satisfied: kiwisolver>=1.0.1 in /opt/conda/lib/python3.7/site-packages (from matplotlib!=3.0.0,>=2.0.0->scikit-image->efficientnet==1.1.0) (1.2.0)\r\n",
      "Requirement already satisfied: cycler>=0.10 in /opt/conda/lib/python3.7/site-packages (from matplotlib!=3.0.0,>=2.0.0->scikit-image->efficientnet==1.1.0) (0.10.0)\r\n",
      "Requirement already satisfied: pyparsing!=2.0.4,!=2.1.2,!=2.1.6,>=2.0.1 in /opt/conda/lib/python3.7/site-packages (from matplotlib!=3.0.0,>=2.0.0->scikit-image->efficientnet==1.1.0) (2.4.7)\r\n",
      "Requirement already satisfied: python-dateutil>=2.1 in /opt/conda/lib/python3.7/site-packages (from matplotlib!=3.0.0,>=2.0.0->scikit-image->efficientnet==1.1.0) (2.8.1)\r\n",
      "Requirement already satisfied: decorator>=4.3.0 in /opt/conda/lib/python3.7/site-packages (from networkx>=2.0->scikit-image->efficientnet==1.1.0) (4.4.2)\r\n",
      "Building wheels for collected packages: efficientnet\r\n",
      "  Building wheel for efficientnet (setup.py) ... \u001b[?25l-\b \b\\\b \bdone\r\n",
      "\u001b[?25h  Created wheel for efficientnet: filename=efficientnet-1.1.0-py3-none-any.whl size=14141 sha256=a2bf3fca19ba5338fd7a7ca1e13c37dc211b7b3ce7c9ca4fb4aa64041466a3a6\r\n",
      "  Stored in directory: /root/.cache/pip/wheels/fa/91/d3/2401dc7a5a531245ffc84b63cd11d6594f132c41a1382ec230\r\n",
      "Successfully built efficientnet\r\n",
      "Installing collected packages: efficientnet\r\n",
      "Successfully installed efficientnet-1.1.0\r\n",
      "Processing /kaggle/input/birdmel/tensorflow_addons-0.11.1-cp37-cp37m-manylinux2010_x86_64.whl\r\n",
      "Requirement already satisfied: typeguard>=2.7 in /opt/conda/lib/python3.7/site-packages (from tensorflow-addons==0.11.1) (2.9.1)\r\n",
      "Installing collected packages: tensorflow-addons\r\n",
      "  Attempting uninstall: tensorflow-addons\r\n",
      "    Found existing installation: tensorflow-addons 0.10.0\r\n",
      "    Uninstalling tensorflow-addons-0.10.0:\r\n",
      "      Successfully uninstalled tensorflow-addons-0.10.0\r\n",
      "Successfully installed tensorflow-addons-0.11.1\r\n"
     ]
    }
   ],
   "source": [
    "!pip install '../input/birdmel/noisereduce-1.1.0/noisereduce-1.1.0'\n",
    "!pip install '../input/birdmel/Keras_Applications-1.0.8-py3-none-any.whl'\n",
    "!pip install '../input/birdmel/efficientnet-1.1.0/efficientnet-1.1.0'\n",
    "!pip install '../input/birdmel/tensorflow_addons-0.11.1-cp37-cp37m-manylinux2010_x86_64.whl'"
   ]
  },
  {
   "cell_type": "code",
   "execution_count": 2,
   "metadata": {
    "_cell_guid": "79c7e3d0-c299-4dcb-8224-4455121ee9b0",
    "_kg_hide-output": true,
    "_uuid": "d629ff2d2480ee46fbb7e2d37f6b5fab8052498a",
    "collapsed": true,
    "execution": {
     "iopub.execute_input": "2020-08-22T05:13:51.921287Z",
     "iopub.status.busy": "2020-08-22T05:13:51.918114Z",
     "iopub.status.idle": "2020-08-22T05:13:58.835958Z",
     "shell.execute_reply": "2020-08-22T05:13:58.834784Z"
    },
    "papermill": {
     "duration": 6.958355,
     "end_time": "2020-08-22T05:13:58.836085",
     "exception": false,
     "start_time": "2020-08-22T05:13:51.877730",
     "status": "completed"
    },
    "tags": []
   },
   "outputs": [
    {
     "name": "stderr",
     "output_type": "stream",
     "text": [
      "/opt/conda/lib/python3.7/site-packages/noisereduce/noisereduce.py:5: TqdmExperimentalWarning: Using `tqdm.autonotebook.tqdm` in notebook mode. Use `tqdm.tqdm` instead to force console mode (e.g. in jupyter console)\n",
      "  from tqdm.autonotebook import tqdm\n"
     ]
    }
   ],
   "source": [
    "import numpy as np \n",
    "import pandas as pd\n",
    "\n",
    "import tensorflow as tf\n",
    "\n",
    "import librosa\n",
    "import noisereduce as no\n",
    "import cv2\n",
    "import matplotlib.pyplot as plt\n",
    "\n",
    "import efficientnet.tfkeras as efn\n",
    "import tensorflow_addons as tfa\n",
    "\n",
    "import functools\n",
    "import operator"
   ]
  },
  {
   "cell_type": "markdown",
   "execution_count": null,
   "metadata": {
    "papermill": {
     "duration": 0.031651,
     "end_time": "2020-08-22T05:13:58.898829",
     "exception": false,
     "start_time": "2020-08-22T05:13:58.867178",
     "status": "completed"
    },
    "tags": []
   },
   "source": [
    "## Load a pretrained EfficientNetB5 model"
   ]
  },
  {
   "cell_type": "code",
   "execution_count": 3,
   "metadata": {
    "execution": {
     "iopub.execute_input": "2020-08-22T05:13:58.968000Z",
     "iopub.status.busy": "2020-08-22T05:13:58.966213Z",
     "iopub.status.idle": "2020-08-22T05:13:58.968652Z",
     "shell.execute_reply": "2020-08-22T05:13:58.969110Z"
    },
    "papermill": {
     "duration": 0.03877,
     "end_time": "2020-08-22T05:13:58.969235",
     "exception": false,
     "start_time": "2020-08-22T05:13:58.930465",
     "status": "completed"
    },
    "tags": []
   },
   "outputs": [],
   "source": [
    "batch_size = 16\n",
    "img_size = (256, 5150)\n",
    "seed = 1\n",
    "storage_dir = '../input/birdmel/train_img_split/train_img_split'"
   ]
  },
  {
   "cell_type": "code",
   "execution_count": 4,
   "metadata": {
    "execution": {
     "iopub.execute_input": "2020-08-22T05:13:59.036619Z",
     "iopub.status.busy": "2020-08-22T05:13:59.036004Z",
     "iopub.status.idle": "2020-08-22T05:14:06.065148Z",
     "shell.execute_reply": "2020-08-22T05:14:06.064370Z"
    },
    "papermill": {
     "duration": 7.0647,
     "end_time": "2020-08-22T05:14:06.065270",
     "exception": false,
     "start_time": "2020-08-22T05:13:59.000570",
     "status": "completed"
    },
    "tags": []
   },
   "outputs": [
    {
     "name": "stdout",
     "output_type": "stream",
     "text": [
      "Found 50303 files belonging to 264 classes.\n",
      "Using 2515 files for validation.\n"
     ]
    }
   ],
   "source": [
    "val_ds = tf.keras.preprocessing.image_dataset_from_directory(\n",
    "    storage_dir,\n",
    "    validation_split=0.05,\n",
    "    subset=\"validation\",\n",
    "    seed=seed,\n",
    "    image_size=img_size,\n",
    "    batch_size=batch_size,\n",
    "    label_mode='categorical'\n",
    ")"
   ]
  },
  {
   "cell_type": "code",
   "execution_count": 5,
   "metadata": {
    "execution": {
     "iopub.execute_input": "2020-08-22T05:14:06.133634Z",
     "iopub.status.busy": "2020-08-22T05:14:06.131759Z",
     "iopub.status.idle": "2020-08-22T05:14:06.134285Z",
     "shell.execute_reply": "2020-08-22T05:14:06.134767Z"
    },
    "papermill": {
     "duration": 0.039062,
     "end_time": "2020-08-22T05:14:06.134895",
     "exception": false,
     "start_time": "2020-08-22T05:14:06.095833",
     "status": "completed"
    },
    "tags": []
   },
   "outputs": [],
   "source": [
    "class_names = np.array(val_ds.class_names)\n",
    "class_num = len(val_ds.class_names)"
   ]
  },
  {
   "cell_type": "code",
   "execution_count": 6,
   "metadata": {
    "execution": {
     "iopub.execute_input": "2020-08-22T05:14:06.204683Z",
     "iopub.status.busy": "2020-08-22T05:14:06.204014Z",
     "iopub.status.idle": "2020-08-22T05:14:06.211327Z",
     "shell.execute_reply": "2020-08-22T05:14:06.211842Z"
    },
    "papermill": {
     "duration": 0.045593,
     "end_time": "2020-08-22T05:14:06.211977",
     "exception": false,
     "start_time": "2020-08-22T05:14:06.166384",
     "status": "completed"
    },
    "tags": []
   },
   "outputs": [],
   "source": [
    "normalization_layer = tf.keras.layers.experimental.preprocessing.Rescaling(scale=1./127.5, offset=-1)\n",
    "\n",
    "def resize(image, height=256, width=256):\n",
    "    return tf.image.resize_with_crop_or_pad(image, target_height=height, target_width=width)\n",
    "\n",
    "def augment_image_test(image):\n",
    "    image = resize(image)\n",
    "    image = normalization_layer(image)\n",
    "\n",
    "    return image"
   ]
  },
  {
   "cell_type": "code",
   "execution_count": 7,
   "metadata": {
    "execution": {
     "iopub.execute_input": "2020-08-22T05:14:06.279440Z",
     "iopub.status.busy": "2020-08-22T05:14:06.278802Z",
     "iopub.status.idle": "2020-08-22T05:14:13.403732Z",
     "shell.execute_reply": "2020-08-22T05:14:13.402614Z"
    },
    "papermill": {
     "duration": 7.159835,
     "end_time": "2020-08-22T05:14:13.403871",
     "exception": false,
     "start_time": "2020-08-22T05:14:06.244036",
     "status": "completed"
    },
    "tags": []
   },
   "outputs": [],
   "source": [
    "net = tf.keras.models.load_model('../input/birdmel/efficientnet_b5_tf_2_3_0.h5')"
   ]
  },
  {
   "cell_type": "markdown",
   "execution_count": null,
   "metadata": {
    "papermill": {
     "duration": 0.035154,
     "end_time": "2020-08-22T05:14:13.473141",
     "exception": false,
     "start_time": "2020-08-22T05:14:13.437987",
     "status": "completed"
    },
    "tags": []
   },
   "source": [
    "## Prediction"
   ]
  },
  {
   "cell_type": "code",
   "execution_count": 8,
   "metadata": {
    "execution": {
     "iopub.execute_input": "2020-08-22T05:14:13.551216Z",
     "iopub.status.busy": "2020-08-22T05:14:13.549161Z",
     "iopub.status.idle": "2020-08-22T05:14:13.552007Z",
     "shell.execute_reply": "2020-08-22T05:14:13.552525Z"
    },
    "papermill": {
     "duration": 0.044487,
     "end_time": "2020-08-22T05:14:13.552691",
     "exception": false,
     "start_time": "2020-08-22T05:14:13.508204",
     "status": "completed"
    },
    "tags": []
   },
   "outputs": [],
   "source": [
    "sr = 22050\n",
    "n_fft = 2048\n",
    "hop_length = 512   \n",
    "n_mels = 256\n",
    "fmin = 300"
   ]
  },
  {
   "cell_type": "code",
   "execution_count": 9,
   "metadata": {
    "execution": {
     "iopub.execute_input": "2020-08-22T05:14:13.630113Z",
     "iopub.status.busy": "2020-08-22T05:14:13.628211Z",
     "iopub.status.idle": "2020-08-22T05:14:13.630826Z",
     "shell.execute_reply": "2020-08-22T05:14:13.631323Z"
    },
    "papermill": {
     "duration": 0.044821,
     "end_time": "2020-08-22T05:14:13.631474",
     "exception": false,
     "start_time": "2020-08-22T05:14:13.586653",
     "status": "completed"
    },
    "tags": []
   },
   "outputs": [],
   "source": [
    "def load_audio(path):\n",
    "    signal, _ = librosa.load(path, res_type='kaiser_fast', mono=True, sr=sr)\n",
    "    return no.reduce_noise(audio_clip=signal, noise_clip=signal, verbose=False)\n",
    "\n",
    "def get_melspectrogram_db(signal):\n",
    "    spec = librosa.feature.melspectrogram(\n",
    "        signal, \n",
    "        sr=sr, \n",
    "        n_fft=n_fft,\n",
    "        hop_length=hop_length,\n",
    "        n_mels=n_mels,\n",
    "        fmin=fmin\n",
    "    )\n",
    "    \n",
    "    return librosa.power_to_db(spec, ref=np.max)"
   ]
  },
  {
   "cell_type": "code",
   "execution_count": 10,
   "metadata": {
    "execution": {
     "iopub.execute_input": "2020-08-22T05:14:13.706051Z",
     "iopub.status.busy": "2020-08-22T05:14:13.705164Z",
     "iopub.status.idle": "2020-08-22T05:14:13.708931Z",
     "shell.execute_reply": "2020-08-22T05:14:13.709447Z"
    },
    "papermill": {
     "duration": 0.045862,
     "end_time": "2020-08-22T05:14:13.709592",
     "exception": false,
     "start_time": "2020-08-22T05:14:13.663730",
     "status": "completed"
    },
    "tags": []
   },
   "outputs": [],
   "source": [
    "def spec_to_image(spec, eps=1e-6):\n",
    "    mean = spec.mean()\n",
    "    std = spec.std()\n",
    "    spec_norm = (spec - mean) / (std + eps)\n",
    "    spec_min, spec_max = spec_norm.min(), spec_norm.max()\n",
    "    spec_scaled = 255 * (spec_norm - spec_min) / (spec_max - spec_min)\n",
    "    spec_scaled = spec_scaled.astype(np.uint8)\n",
    "    spec_scaled = np.flip(spec_scaled, axis=0)\n",
    "\n",
    "    return spec_scaled"
   ]
  },
  {
   "cell_type": "code",
   "execution_count": 11,
   "metadata": {
    "execution": {
     "iopub.execute_input": "2020-08-22T05:14:13.785732Z",
     "iopub.status.busy": "2020-08-22T05:14:13.784943Z",
     "iopub.status.idle": "2020-08-22T05:14:13.789469Z",
     "shell.execute_reply": "2020-08-22T05:14:13.788854Z"
    },
    "papermill": {
     "duration": 0.045882,
     "end_time": "2020-08-22T05:14:13.789573",
     "exception": false,
     "start_time": "2020-08-22T05:14:13.743691",
     "status": "completed"
    },
    "tags": []
   },
   "outputs": [],
   "source": [
    "def split_img(img):\n",
    "    size = 216 # 5 seconds\n",
    "    \n",
    "    width = img.shape[1]\n",
    "    split_num = int(np.floor(width/size))\n",
    "    residual = width - split_num*size\n",
    "    end_split_index = width - residual\n",
    "    \n",
    "    imgs = []\n",
    "    if split_num > 0:\n",
    "        imgs = np.array_split(img[:, :end_split_index, :], split_num, axis=1)\n",
    "    \n",
    "    if residual > 0:\n",
    "        imgs.append(img[:, end_split_index:, :])\n",
    "    \n",
    "    return imgs"
   ]
  },
  {
   "cell_type": "code",
   "execution_count": 12,
   "metadata": {
    "execution": {
     "iopub.execute_input": "2020-08-22T05:14:13.861946Z",
     "iopub.status.busy": "2020-08-22T05:14:13.861226Z",
     "iopub.status.idle": "2020-08-22T05:14:13.865123Z",
     "shell.execute_reply": "2020-08-22T05:14:13.864600Z"
    },
    "papermill": {
     "duration": 0.042738,
     "end_time": "2020-08-22T05:14:13.865222",
     "exception": false,
     "start_time": "2020-08-22T05:14:13.822484",
     "status": "completed"
    },
    "tags": []
   },
   "outputs": [],
   "source": [
    "def file_to_imgs(signal):\n",
    "    img = spec_to_image(get_melspectrogram_db(signal))\n",
    "    img = cv2.merge((img,img,img))\n",
    "    imgs = split_img(img)\n",
    "\n",
    "    return imgs"
   ]
  },
  {
   "cell_type": "code",
   "execution_count": 13,
   "metadata": {
    "execution": {
     "iopub.execute_input": "2020-08-22T05:14:13.943055Z",
     "iopub.status.busy": "2020-08-22T05:14:13.942202Z",
     "iopub.status.idle": "2020-08-22T05:14:13.945835Z",
     "shell.execute_reply": "2020-08-22T05:14:13.946303Z"
    },
    "papermill": {
     "duration": 0.047678,
     "end_time": "2020-08-22T05:14:13.946482",
     "exception": false,
     "start_time": "2020-08-22T05:14:13.898804",
     "status": "completed"
    },
    "tags": []
   },
   "outputs": [],
   "source": [
    "def predict_imgs(model, class_names, imgs, threshold = 0.8):\n",
    "    tensors = list(map(lambda x: tf.expand_dims(augment_image_test(x), 0), imgs))\n",
    "    batch = np.vstack(tensors)\n",
    "    probas = net.predict(x=batch)\n",
    "    selected_class_names = list(set(functools.reduce(\n",
    "        lambda y, x: operator.iconcat(y, list(class_names[x >= threshold])), \n",
    "        probas, \n",
    "        []\n",
    "    )))\n",
    "    \n",
    "    selected_class_names.sort()\n",
    "    \n",
    "    return selected_class_names"
   ]
  },
  {
   "cell_type": "code",
   "execution_count": 14,
   "metadata": {
    "execution": {
     "iopub.execute_input": "2020-08-22T05:14:14.030133Z",
     "iopub.status.busy": "2020-08-22T05:14:14.029204Z",
     "iopub.status.idle": "2020-08-22T05:14:14.031852Z",
     "shell.execute_reply": "2020-08-22T05:14:14.032325Z"
    },
    "papermill": {
     "duration": 0.051169,
     "end_time": "2020-08-22T05:14:14.032492",
     "exception": false,
     "start_time": "2020-08-22T05:14:13.981323",
     "status": "completed"
    },
    "tags": []
   },
   "outputs": [],
   "source": [
    "def predict(test_folder='birdsong-recognition', threshold=0.8):\n",
    "    row_ids = []\n",
    "    birds = []\n",
    "    audio_dir = '../input/' + test_folder + '/test_audio/'\n",
    "    df = pd.read_csv('../input/' + test_folder + '/test.csv')\n",
    "    df = df.sort_values(by=['audio_id'])\n",
    "    \n",
    "    current_filename = None\n",
    "    current_signal = None\n",
    "    for index, row in df.iterrows():\n",
    "        row_id = row['row_id']\n",
    "        filename = row['audio_id']\n",
    "        site = row['site']\n",
    "        file = audio_dir + filename + '.mp3'\n",
    "        \n",
    "        if current_filename != filename:\n",
    "            current_filename = filename\n",
    "            current_signal = load_audio(file)\n",
    "\n",
    "        if site == 'site_3':\n",
    "            images = file_to_imgs(current_signal)\n",
    "        else:\n",
    "            starting_index = (row['seconds'] - 5)*sr\n",
    "            signal = current_signal[int(starting_index):int(starting_index + 5*sr)]\n",
    "            images = file_to_imgs(signal)\n",
    "           \n",
    "        preds = predict_imgs(net, class_names, images, threshold=threshold)\n",
    "        row_ids.append(row_id)\n",
    "        birds.append(preds)\n",
    "        \n",
    "    return pd.DataFrame({\n",
    "        'row_id': row_ids,\n",
    "        'birds': list(map(lambda x: 'nocall' if len(x) == 0 else ' '.join(x), birds))\n",
    "    })"
   ]
  },
  {
   "cell_type": "code",
   "execution_count": 15,
   "metadata": {
    "_kg_hide-output": true,
    "execution": {
     "iopub.execute_input": "2020-08-22T05:14:14.108155Z",
     "iopub.status.busy": "2020-08-22T05:14:14.107214Z",
     "iopub.status.idle": "2020-08-22T05:14:56.775377Z",
     "shell.execute_reply": "2020-08-22T05:14:56.776364Z"
    },
    "papermill": {
     "duration": 42.711681,
     "end_time": "2020-08-22T05:14:56.776544",
     "exception": false,
     "start_time": "2020-08-22T05:14:14.064863",
     "status": "completed"
    },
    "tags": []
   },
   "outputs": [],
   "source": [
    "import warnings\n",
    "warnings.filterwarnings('ignore')\n",
    "\n",
    "try:\n",
    "    sub_df = predict(test_folder='birdsong-recognition', threshold=0.9)\n",
    "except:\n",
    "    sub_df = predict(test_folder='birdcall-check', threshold=0.9)"
   ]
  },
  {
   "cell_type": "code",
   "execution_count": 16,
   "metadata": {
    "execution": {
     "iopub.execute_input": "2020-08-22T05:14:56.844950Z",
     "iopub.status.busy": "2020-08-22T05:14:56.844075Z",
     "iopub.status.idle": "2020-08-22T05:14:56.904644Z",
     "shell.execute_reply": "2020-08-22T05:14:56.903670Z"
    },
    "papermill": {
     "duration": 0.096427,
     "end_time": "2020-08-22T05:14:56.904760",
     "exception": false,
     "start_time": "2020-08-22T05:14:56.808333",
     "status": "completed"
    },
    "tags": []
   },
   "outputs": [],
   "source": [
    "sub_df.to_csv('submission.csv', index=False)"
   ]
  },
  {
   "cell_type": "code",
   "execution_count": 17,
   "metadata": {
    "execution": {
     "iopub.execute_input": "2020-08-22T05:14:56.973473Z",
     "iopub.status.busy": "2020-08-22T05:14:56.971702Z",
     "iopub.status.idle": "2020-08-22T05:14:56.974163Z",
     "shell.execute_reply": "2020-08-22T05:14:56.974647Z"
    },
    "papermill": {
     "duration": 0.038879,
     "end_time": "2020-08-22T05:14:56.974774",
     "exception": false,
     "start_time": "2020-08-22T05:14:56.935895",
     "status": "completed"
    },
    "tags": []
   },
   "outputs": [],
   "source": [
    "# sub_df = sub_df.sort_values(by=['row_id']).reset_index(drop=True)\n",
    "# sample_sub = pd.read_csv('../input/birdmel/sample_submission.csv').sort_values(by=['row_id']).reset_index(drop=True)\n",
    "# sum(sub_df['birds'] != sample_sub['birds'])"
   ]
  },
  {
   "cell_type": "code",
   "execution_count": null,
   "metadata": {
    "papermill": {
     "duration": 0.030805,
     "end_time": "2020-08-22T05:14:57.036456",
     "exception": false,
     "start_time": "2020-08-22T05:14:57.005651",
     "status": "completed"
    },
    "tags": []
   },
   "outputs": [],
   "source": []
  }
 ],
 "metadata": {
  "kernelspec": {
   "display_name": "Python 3",
   "language": "python",
   "name": "python3"
  },
  "language_info": {
   "codemirror_mode": {
    "name": "ipython",
    "version": 3
   },
   "file_extension": ".py",
   "mimetype": "text/x-python",
   "name": "python",
   "nbconvert_exporter": "python",
   "pygments_lexer": "ipython3",
   "version": "3.7.6"
  },
  "papermill": {
   "duration": 202.937591,
   "end_time": "2020-08-22T05:14:58.956707",
   "environment_variables": {},
   "exception": null,
   "input_path": "__notebook__.ipynb",
   "output_path": "__notebook__.ipynb",
   "parameters": {},
   "start_time": "2020-08-22T05:11:36.019116",
   "version": "2.1.0"
  }
 },
 "nbformat": 4,
 "nbformat_minor": 4
}
