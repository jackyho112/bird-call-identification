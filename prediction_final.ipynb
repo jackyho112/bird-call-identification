{
 "cells": [
  {
   "cell_type": "code",
   "execution_count": 1,
   "metadata": {
    "_kg_hide-output": true,
    "collapsed": true,
    "execution": {
     "iopub.execute_input": "2020-09-15T05:00:49.999697Z",
     "iopub.status.busy": "2020-09-15T05:00:49.998934Z",
     "iopub.status.idle": "2020-09-15T05:02:02.122477Z",
     "shell.execute_reply": "2020-09-15T05:02:02.121754Z"
    },
    "papermill": {
     "duration": 72.143398,
     "end_time": "2020-09-15T05:02:02.122692",
     "exception": false,
     "start_time": "2020-09-15T05:00:49.979294",
     "status": "completed"
    },
    "tags": []
   },
   "outputs": [
    {
     "name": "stdout",
     "output_type": "stream",
     "text": [
      "Processing /kaggle/input/birdpred/noisereduce-1.1.0/noisereduce-1.1.0\r\n",
      "Requirement already satisfied: scipy in /opt/conda/lib/python3.7/site-packages (from noisereduce==1.1.0) (1.4.1)\r\n",
      "Requirement already satisfied: matplotlib in /opt/conda/lib/python3.7/site-packages (from noisereduce==1.1.0) (3.2.1)\r\n",
      "Requirement already satisfied: librosa in /opt/conda/lib/python3.7/site-packages (from noisereduce==1.1.0) (0.8.0)\r\n",
      "Requirement already satisfied: numpy in /opt/conda/lib/python3.7/site-packages (from noisereduce==1.1.0) (1.18.5)\r\n",
      "Requirement already satisfied: tqdm in /opt/conda/lib/python3.7/site-packages (from noisereduce==1.1.0) (4.45.0)\r\n",
      "Requirement already satisfied: kiwisolver>=1.0.1 in /opt/conda/lib/python3.7/site-packages (from matplotlib->noisereduce==1.1.0) (1.2.0)\r\n",
      "Requirement already satisfied: python-dateutil>=2.1 in /opt/conda/lib/python3.7/site-packages (from matplotlib->noisereduce==1.1.0) (2.8.1)\r\n",
      "Requirement already satisfied: cycler>=0.10 in /opt/conda/lib/python3.7/site-packages (from matplotlib->noisereduce==1.1.0) (0.10.0)\r\n",
      "Requirement already satisfied: pyparsing!=2.0.4,!=2.1.2,!=2.1.6,>=2.0.1 in /opt/conda/lib/python3.7/site-packages (from matplotlib->noisereduce==1.1.0) (2.4.7)\r\n",
      "Requirement already satisfied: pooch>=1.0 in /opt/conda/lib/python3.7/site-packages (from librosa->noisereduce==1.1.0) (1.1.1)\r\n",
      "Requirement already satisfied: audioread>=2.0.0 in /opt/conda/lib/python3.7/site-packages (from librosa->noisereduce==1.1.0) (2.1.8)\r\n",
      "Requirement already satisfied: decorator>=3.0.0 in /opt/conda/lib/python3.7/site-packages (from librosa->noisereduce==1.1.0) (4.4.2)\r\n",
      "Requirement already satisfied: numba>=0.43.0 in /opt/conda/lib/python3.7/site-packages (from librosa->noisereduce==1.1.0) (0.48.0)\r\n",
      "Requirement already satisfied: resampy>=0.2.2 in /opt/conda/lib/python3.7/site-packages (from librosa->noisereduce==1.1.0) (0.2.2)\r\n",
      "Requirement already satisfied: joblib>=0.14 in /opt/conda/lib/python3.7/site-packages (from librosa->noisereduce==1.1.0) (0.14.1)\r\n",
      "Requirement already satisfied: scikit-learn!=0.19.0,>=0.14.0 in /opt/conda/lib/python3.7/site-packages (from librosa->noisereduce==1.1.0) (0.23.2)\r\n",
      "Requirement already satisfied: soundfile>=0.9.0 in /opt/conda/lib/python3.7/site-packages (from librosa->noisereduce==1.1.0) (0.10.3.post1)\r\n",
      "Requirement already satisfied: six>=1.5 in /opt/conda/lib/python3.7/site-packages (from python-dateutil>=2.1->matplotlib->noisereduce==1.1.0) (1.14.0)\r\n",
      "Requirement already satisfied: requests in /opt/conda/lib/python3.7/site-packages (from pooch>=1.0->librosa->noisereduce==1.1.0) (2.23.0)\r\n",
      "Requirement already satisfied: appdirs in /opt/conda/lib/python3.7/site-packages (from pooch>=1.0->librosa->noisereduce==1.1.0) (1.4.3)\r\n",
      "Requirement already satisfied: packaging in /opt/conda/lib/python3.7/site-packages (from pooch>=1.0->librosa->noisereduce==1.1.0) (20.1)\r\n",
      "Requirement already satisfied: llvmlite<0.32.0,>=0.31.0dev0 in /opt/conda/lib/python3.7/site-packages (from numba>=0.43.0->librosa->noisereduce==1.1.0) (0.31.0)\r\n",
      "Requirement already satisfied: setuptools in /opt/conda/lib/python3.7/site-packages (from numba>=0.43.0->librosa->noisereduce==1.1.0) (46.1.3.post20200325)\r\n",
      "Requirement already satisfied: threadpoolctl>=2.0.0 in /opt/conda/lib/python3.7/site-packages (from scikit-learn!=0.19.0,>=0.14.0->librosa->noisereduce==1.1.0) (2.1.0)\r\n",
      "Requirement already satisfied: cffi>=1.0 in /opt/conda/lib/python3.7/site-packages (from soundfile>=0.9.0->librosa->noisereduce==1.1.0) (1.14.0)\r\n",
      "Requirement already satisfied: chardet<4,>=3.0.2 in /opt/conda/lib/python3.7/site-packages (from requests->pooch>=1.0->librosa->noisereduce==1.1.0) (3.0.4)\r\n",
      "Requirement already satisfied: idna<3,>=2.5 in /opt/conda/lib/python3.7/site-packages (from requests->pooch>=1.0->librosa->noisereduce==1.1.0) (2.9)\r\n",
      "Requirement already satisfied: certifi>=2017.4.17 in /opt/conda/lib/python3.7/site-packages (from requests->pooch>=1.0->librosa->noisereduce==1.1.0) (2020.6.20)\r\n",
      "Requirement already satisfied: urllib3!=1.25.0,!=1.25.1,<1.26,>=1.21.1 in /opt/conda/lib/python3.7/site-packages (from requests->pooch>=1.0->librosa->noisereduce==1.1.0) (1.24.3)\r\n",
      "Requirement already satisfied: pycparser in /opt/conda/lib/python3.7/site-packages (from cffi>=1.0->soundfile>=0.9.0->librosa->noisereduce==1.1.0) (2.20)\r\n",
      "Building wheels for collected packages: noisereduce\r\n",
      "  Building wheel for noisereduce (setup.py) ... \u001b[?25l-\b \b\\\b \bdone\r\n",
      "\u001b[?25h  Created wheel for noisereduce: filename=noisereduce-1.1.0-py3-none-any.whl size=7608 sha256=fdf9b31e15e881016ff93688ff7f20858efcd3e8f433ad9341e441b05078de19\r\n",
      "  Stored in directory: /root/.cache/pip/wheels/c1/c8/78/7f4b312133a0f006df823510f9f1b94be357cd8103da1256a0\r\n",
      "Successfully built noisereduce\r\n",
      "Installing collected packages: noisereduce\r\n",
      "Successfully installed noisereduce-1.1.0\r\n",
      "Processing /kaggle/input/birdpred/tfa.whl/tensorflow_addons-0.11.1-cp37-cp37m-manylinux2010_x86_64.whl\r\n",
      "Requirement already satisfied: typeguard>=2.7 in /opt/conda/lib/python3.7/site-packages (from tensorflow-addons==0.11.1) (2.9.1)\r\n",
      "Installing collected packages: tensorflow-addons\r\n",
      "  Attempting uninstall: tensorflow-addons\r\n",
      "    Found existing installation: tensorflow-addons 0.10.0\r\n",
      "    Uninstalling tensorflow-addons-0.10.0:\r\n",
      "      Successfully uninstalled tensorflow-addons-0.10.0\r\n",
      "Successfully installed tensorflow-addons-0.11.1\r\n"
     ]
    }
   ],
   "source": [
    "!pip install '../input/birdpred/noisereduce-1.1.0/noisereduce-1.1.0'\n",
    "!pip install '../input/birdpred/tfa.whl/tensorflow_addons-0.11.1-cp37-cp37m-manylinux2010_x86_64.whl'"
   ]
  },
  {
   "cell_type": "code",
   "execution_count": 2,
   "metadata": {
    "_cell_guid": "79c7e3d0-c299-4dcb-8224-4455121ee9b0",
    "_kg_hide-output": true,
    "_uuid": "d629ff2d2480ee46fbb7e2d37f6b5fab8052498a",
    "collapsed": true,
    "execution": {
     "iopub.execute_input": "2020-09-15T05:02:02.214570Z",
     "iopub.status.busy": "2020-09-15T05:02:02.213778Z",
     "iopub.status.idle": "2020-09-15T05:02:09.004993Z",
     "shell.execute_reply": "2020-09-15T05:02:09.004363Z"
    },
    "papermill": {
     "duration": 6.839634,
     "end_time": "2020-09-15T05:02:09.005102",
     "exception": false,
     "start_time": "2020-09-15T05:02:02.165468",
     "status": "completed"
    },
    "tags": []
   },
   "outputs": [
    {
     "name": "stderr",
     "output_type": "stream",
     "text": [
      "/opt/conda/lib/python3.7/site-packages/noisereduce/noisereduce.py:5: TqdmExperimentalWarning: Using `tqdm.autonotebook.tqdm` in notebook mode. Use `tqdm.tqdm` instead to force console mode (e.g. in jupyter console)\n",
      "  from tqdm.autonotebook import tqdm\n"
     ]
    }
   ],
   "source": [
    "import numpy as np \n",
    "import pandas as pd\n",
    "\n",
    "import tensorflow as tf\n",
    "\n",
    "import librosa\n",
    "import noisereduce as no\n",
    "import cv2 as cv\n",
    "import matplotlib.pyplot as plt\n",
    "\n",
    "import tensorflow_addons as tfa\n",
    "\n",
    "import functools\n",
    "import operator\n",
    "import math\n",
    "import os"
   ]
  },
  {
   "cell_type": "code",
   "execution_count": 3,
   "metadata": {
    "execution": {
     "iopub.execute_input": "2020-09-15T05:02:09.063284Z",
     "iopub.status.busy": "2020-09-15T05:02:09.062710Z",
     "iopub.status.idle": "2020-09-15T05:02:09.067570Z",
     "shell.execute_reply": "2020-09-15T05:02:09.067969Z"
    },
    "papermill": {
     "duration": 0.036432,
     "end_time": "2020-09-15T05:02:09.068075",
     "exception": false,
     "start_time": "2020-09-15T05:02:09.031643",
     "status": "completed"
    },
    "tags": []
   },
   "outputs": [
    {
     "data": {
      "text/plain": [
       "'2.3.0'"
      ]
     },
     "execution_count": 3,
     "metadata": {},
     "output_type": "execute_result"
    }
   ],
   "source": [
    "tf.__version__"
   ]
  },
  {
   "cell_type": "markdown",
   "metadata": {
    "papermill": {
     "duration": 0.027427,
     "end_time": "2020-09-15T05:02:09.121600",
     "exception": false,
     "start_time": "2020-09-15T05:02:09.094173",
     "status": "completed"
    },
    "tags": []
   },
   "source": [
    "## Load a pretrained EfficientNetB5 model"
   ]
  },
  {
   "cell_type": "code",
   "execution_count": 4,
   "metadata": {
    "execution": {
     "iopub.execute_input": "2020-09-15T05:02:09.178759Z",
     "iopub.status.busy": "2020-09-15T05:02:09.178166Z",
     "iopub.status.idle": "2020-09-15T05:02:10.034585Z",
     "shell.execute_reply": "2020-09-15T05:02:10.033515Z"
    },
    "papermill": {
     "duration": 0.886905,
     "end_time": "2020-09-15T05:02:10.034714",
     "exception": false,
     "start_time": "2020-09-15T05:02:09.147809",
     "status": "completed"
    },
    "tags": []
   },
   "outputs": [],
   "source": [
    "bird_dir = '../input/birdsong-recognition/train_audio'\n",
    "\n",
    "for root, dirs, files in os.walk(bird_dir):\n",
    "    if root == bird_dir:\n",
    "        birds = dirs\n",
    "        \n",
    "birds.append('nocall')\n",
    "birds.sort()"
   ]
  },
  {
   "cell_type": "code",
   "execution_count": 5,
   "metadata": {
    "execution": {
     "iopub.execute_input": "2020-09-15T05:02:10.092750Z",
     "iopub.status.busy": "2020-09-15T05:02:10.091864Z",
     "iopub.status.idle": "2020-09-15T05:02:10.094026Z",
     "shell.execute_reply": "2020-09-15T05:02:10.094428Z"
    },
    "papermill": {
     "duration": 0.0328,
     "end_time": "2020-09-15T05:02:10.094542",
     "exception": false,
     "start_time": "2020-09-15T05:02:10.061742",
     "status": "completed"
    },
    "tags": []
   },
   "outputs": [],
   "source": [
    "class_names = np.array(birds)"
   ]
  },
  {
   "cell_type": "code",
   "execution_count": 6,
   "metadata": {
    "execution": {
     "iopub.execute_input": "2020-09-15T05:02:10.151918Z",
     "iopub.status.busy": "2020-09-15T05:02:10.151399Z",
     "iopub.status.idle": "2020-09-15T05:02:10.155304Z",
     "shell.execute_reply": "2020-09-15T05:02:10.154872Z"
    },
    "papermill": {
     "duration": 0.034387,
     "end_time": "2020-09-15T05:02:10.155397",
     "exception": false,
     "start_time": "2020-09-15T05:02:10.121010",
     "status": "completed"
    },
    "tags": []
   },
   "outputs": [],
   "source": [
    "batch_size = 16\n",
    "img_size = (256, 2600)\n",
    "seed = 1\n",
    "storage_dir = '../input/birdmel/train_img_final/train_img_final'\n",
    "model_img_height = 256\n",
    "model_img_width = 512\n",
    "class_num = 265"
   ]
  },
  {
   "cell_type": "code",
   "execution_count": 7,
   "metadata": {
    "execution": {
     "iopub.execute_input": "2020-09-15T05:02:10.214675Z",
     "iopub.status.busy": "2020-09-15T05:02:10.214148Z",
     "iopub.status.idle": "2020-09-15T05:02:10.227779Z",
     "shell.execute_reply": "2020-09-15T05:02:10.227363Z"
    },
    "papermill": {
     "duration": 0.045968,
     "end_time": "2020-09-15T05:02:10.227866",
     "exception": false,
     "start_time": "2020-09-15T05:02:10.181898",
     "status": "completed"
    },
    "tags": []
   },
   "outputs": [],
   "source": [
    "normalization_layer = tf.keras.layers.experimental.preprocessing.Rescaling(scale=1./255)\n",
    "\n",
    "def resize(image, height=model_img_height, width=model_img_width):\n",
    "    return tf.image.resize_with_crop_or_pad(image, target_height=height, target_width=width)\n",
    "\n",
    "def augment_image_test(image):\n",
    "    image = resize(image)\n",
    "    image = normalization_layer(image)\n",
    "\n",
    "    return image"
   ]
  },
  {
   "cell_type": "code",
   "execution_count": 8,
   "metadata": {
    "execution": {
     "iopub.execute_input": "2020-09-15T05:02:10.284969Z",
     "iopub.status.busy": "2020-09-15T05:02:10.284448Z",
     "iopub.status.idle": "2020-09-15T05:02:17.653442Z",
     "shell.execute_reply": "2020-09-15T05:02:17.652600Z"
    },
    "papermill": {
     "duration": 7.398879,
     "end_time": "2020-09-15T05:02:17.653554",
     "exception": false,
     "start_time": "2020-09-15T05:02:10.254675",
     "status": "completed"
    },
    "tags": []
   },
   "outputs": [],
   "source": [
    "net = tf.keras.models.load_model('../input/birdpred/efn_b4_tf_2_3_0_final.h5')"
   ]
  },
  {
   "cell_type": "markdown",
   "metadata": {
    "papermill": {
     "duration": 0.026793,
     "end_time": "2020-09-15T05:02:17.708702",
     "exception": false,
     "start_time": "2020-09-15T05:02:17.681909",
     "status": "completed"
    },
    "tags": []
   },
   "source": [
    "## Prediction"
   ]
  },
  {
   "cell_type": "code",
   "execution_count": 9,
   "metadata": {
    "execution": {
     "iopub.execute_input": "2020-09-15T05:02:17.767008Z",
     "iopub.status.busy": "2020-09-15T05:02:17.766493Z",
     "iopub.status.idle": "2020-09-15T05:02:17.770727Z",
     "shell.execute_reply": "2020-09-15T05:02:17.770130Z"
    },
    "papermill": {
     "duration": 0.035099,
     "end_time": "2020-09-15T05:02:17.770824",
     "exception": false,
     "start_time": "2020-09-15T05:02:17.735725",
     "status": "completed"
    },
    "tags": []
   },
   "outputs": [],
   "source": [
    "sr = 22050\n",
    "n_fft = 2048\n",
    "hop_length = 512   \n",
    "n_mels = 256\n",
    "fmin = 20\n",
    "fmax = 16000"
   ]
  },
  {
   "cell_type": "code",
   "execution_count": 10,
   "metadata": {
    "execution": {
     "iopub.execute_input": "2020-09-15T05:02:17.832044Z",
     "iopub.status.busy": "2020-09-15T05:02:17.831487Z",
     "iopub.status.idle": "2020-09-15T05:02:17.835084Z",
     "shell.execute_reply": "2020-09-15T05:02:17.835638Z"
    },
    "papermill": {
     "duration": 0.037901,
     "end_time": "2020-09-15T05:02:17.835755",
     "exception": false,
     "start_time": "2020-09-15T05:02:17.797854",
     "status": "completed"
    },
    "tags": []
   },
   "outputs": [],
   "source": [
    "def load_audio(path):\n",
    "    signal, _ = librosa.load(path, res_type='kaiser_fast', mono=True, sr=sr)\n",
    "    return no.reduce_noise(audio_clip=signal, noise_clip=signal, verbose=False)\n",
    "\n",
    "def get_melspectrogram_db(signal):\n",
    "    spec = librosa.feature.melspectrogram(\n",
    "        signal, \n",
    "        sr=sr, \n",
    "        n_fft=n_fft,\n",
    "        hop_length=hop_length,\n",
    "        n_mels=n_mels,\n",
    "        fmin=fmin,\n",
    "        fmax=fmax\n",
    "    )\n",
    "    \n",
    "    return librosa.power_to_db(spec, ref=np.max)"
   ]
  },
  {
   "cell_type": "code",
   "execution_count": 11,
   "metadata": {
    "execution": {
     "iopub.execute_input": "2020-09-15T05:02:17.897778Z",
     "iopub.status.busy": "2020-09-15T05:02:17.897012Z",
     "iopub.status.idle": "2020-09-15T05:02:17.899746Z",
     "shell.execute_reply": "2020-09-15T05:02:17.899157Z"
    },
    "papermill": {
     "duration": 0.036435,
     "end_time": "2020-09-15T05:02:17.899840",
     "exception": false,
     "start_time": "2020-09-15T05:02:17.863405",
     "status": "completed"
    },
    "tags": []
   },
   "outputs": [],
   "source": [
    "def process_img(img):\n",
    "    img = img[:, np.any(img > 24, axis=0)]\n",
    "\n",
    "    img = cv.GaussianBlur(img, (5,5), 0)\n",
    "    img = cv.medianBlur(img, 3)\n",
    "    \n",
    "    clahe = cv.createCLAHE(clipLimit=2.0, tileGridSize=(8,8))\n",
    "    img = clahe.apply(img)\n",
    "    \n",
    "    return img"
   ]
  },
  {
   "cell_type": "code",
   "execution_count": 12,
   "metadata": {
    "execution": {
     "iopub.execute_input": "2020-09-15T05:02:17.960453Z",
     "iopub.status.busy": "2020-09-15T05:02:17.959882Z",
     "iopub.status.idle": "2020-09-15T05:02:17.963426Z",
     "shell.execute_reply": "2020-09-15T05:02:17.963006Z"
    },
    "papermill": {
     "duration": 0.036532,
     "end_time": "2020-09-15T05:02:17.963514",
     "exception": false,
     "start_time": "2020-09-15T05:02:17.926982",
     "status": "completed"
    },
    "tags": []
   },
   "outputs": [],
   "source": [
    "def spec_to_image(spec, eps=1e-6):\n",
    "    mean = spec.mean()\n",
    "    std = spec.std()\n",
    "    spec_norm = (spec - mean) / (std + eps)\n",
    "    spec_min, spec_max = spec_norm.min(), spec_norm.max()\n",
    "    spec_scaled = 255 * (spec_norm - spec_min) / (spec_max - spec_min)\n",
    "    spec_scaled = spec_scaled.astype(np.uint8)\n",
    "    spec_scaled = np.flip(spec_scaled, axis=0)\n",
    "\n",
    "    return process_img(spec_scaled)"
   ]
  },
  {
   "cell_type": "code",
   "execution_count": 13,
   "metadata": {
    "execution": {
     "iopub.execute_input": "2020-09-15T05:02:18.025786Z",
     "iopub.status.busy": "2020-09-15T05:02:18.024183Z",
     "iopub.status.idle": "2020-09-15T05:02:18.026619Z",
     "shell.execute_reply": "2020-09-15T05:02:18.027063Z"
    },
    "papermill": {
     "duration": 0.036335,
     "end_time": "2020-09-15T05:02:18.027157",
     "exception": false,
     "start_time": "2020-09-15T05:02:17.990822",
     "status": "completed"
    },
    "tags": []
   },
   "outputs": [],
   "source": [
    "def repeat(imgs):\n",
    "    new_imgs = []\n",
    "    \n",
    "    for img in imgs:\n",
    "        residual_img = np.pad(img, ((0, 0), (0, 20)), 'constant')\n",
    "        repeats = int(np.ceil(model_img_width/residual_img.shape[1]))\n",
    "        new_imgs.append(np.tile(residual_img, (1, repeats))[:, :model_img_width])\n",
    "        \n",
    "    return new_imgs    "
   ]
  },
  {
   "cell_type": "code",
   "execution_count": 14,
   "metadata": {
    "execution": {
     "iopub.execute_input": "2020-09-15T05:02:18.089744Z",
     "iopub.status.busy": "2020-09-15T05:02:18.088992Z",
     "iopub.status.idle": "2020-09-15T05:02:18.091845Z",
     "shell.execute_reply": "2020-09-15T05:02:18.091214Z"
    },
    "papermill": {
     "duration": 0.037418,
     "end_time": "2020-09-15T05:02:18.091945",
     "exception": false,
     "start_time": "2020-09-15T05:02:18.054527",
     "status": "completed"
    },
    "tags": []
   },
   "outputs": [],
   "source": [
    "image_x = None\n",
    "\n",
    "# 216 frames for 5 seconds\n",
    "def split_img(img, size=216):    \n",
    "    width = img.shape[1]\n",
    "    split_num = int(np.floor(width/size))\n",
    "    residual = width - split_num*size\n",
    "    end_split_index = width - residual\n",
    "    \n",
    "    imgs = []\n",
    "    if split_num > 0:\n",
    "        imgs = np.array_split(img[:, :end_split_index], split_num, axis=1)\n",
    "        imgs = repeat(imgs)\n",
    "    \n",
    "    if residual > 0:\n",
    "        residual_img = img[:, end_split_index:]\n",
    "        residual_img = repeat([residual_img])[0]\n",
    "        \n",
    "        imgs.append(residual_img)\n",
    "    \n",
    "    return imgs"
   ]
  },
  {
   "cell_type": "code",
   "execution_count": 15,
   "metadata": {
    "execution": {
     "iopub.execute_input": "2020-09-15T05:02:18.152549Z",
     "iopub.status.busy": "2020-09-15T05:02:18.151896Z",
     "iopub.status.idle": "2020-09-15T05:02:18.155442Z",
     "shell.execute_reply": "2020-09-15T05:02:18.154812Z"
    },
    "papermill": {
     "duration": 0.035809,
     "end_time": "2020-09-15T05:02:18.155569",
     "exception": false,
     "start_time": "2020-09-15T05:02:18.119760",
     "status": "completed"
    },
    "tags": []
   },
   "outputs": [],
   "source": [
    "def file_to_imgs(signal, size=216):\n",
    "    img = spec_to_image(get_melspectrogram_db(signal))\n",
    "    imgs = split_img(img, size)\n",
    "    imgs = list(map(lambda x: cv.merge((x, x, x)), imgs))\n",
    "\n",
    "    return imgs"
   ]
  },
  {
   "cell_type": "code",
   "execution_count": 16,
   "metadata": {
    "execution": {
     "iopub.execute_input": "2020-09-15T05:02:18.218055Z",
     "iopub.status.busy": "2020-09-15T05:02:18.217555Z",
     "iopub.status.idle": "2020-09-15T05:02:18.221481Z",
     "shell.execute_reply": "2020-09-15T05:02:18.221014Z"
    },
    "papermill": {
     "duration": 0.03844,
     "end_time": "2020-09-15T05:02:18.221565",
     "exception": false,
     "start_time": "2020-09-15T05:02:18.183125",
     "status": "completed"
    },
    "tags": []
   },
   "outputs": [],
   "source": [
    "def predict_imgs(model, class_names, imgs, threshold = 0.9):\n",
    "    tensors = list(map(lambda x: tf.expand_dims(augment_image_test(x), 0), imgs))\n",
    "    batch = np.vstack(tensors)\n",
    "    probas = net.predict(x=batch)\n",
    "    selected_class_names = list(set(functools.reduce(\n",
    "        lambda y, x: operator.iconcat(y, list(class_names[x >= threshold])), \n",
    "        probas, \n",
    "        []\n",
    "    )))\n",
    "    \n",
    "    selected_class_names.sort()\n",
    "    \n",
    "    try:\n",
    "        del selected_class_names[selected_class_names.index('nocall')]\n",
    "    except:\n",
    "        pass\n",
    "        \n",
    "    return selected_class_names"
   ]
  },
  {
   "cell_type": "code",
   "execution_count": 17,
   "metadata": {
    "execution": {
     "iopub.execute_input": "2020-09-15T05:02:18.288185Z",
     "iopub.status.busy": "2020-09-15T05:02:18.287671Z",
     "iopub.status.idle": "2020-09-15T05:02:18.291152Z",
     "shell.execute_reply": "2020-09-15T05:02:18.291545Z"
    },
    "papermill": {
     "duration": 0.042195,
     "end_time": "2020-09-15T05:02:18.291657",
     "exception": false,
     "start_time": "2020-09-15T05:02:18.249462",
     "status": "completed"
    },
    "tags": []
   },
   "outputs": [],
   "source": [
    "def predict(test_folder='birdsong-recognition', threshold=0.9):\n",
    "    row_ids = []\n",
    "    birds = []\n",
    "    audio_dir = '../input/' + test_folder + '/test_audio/'\n",
    "    df = pd.read_csv('../input/' + test_folder + '/test.csv')\n",
    "    df = df.sort_values(by=['audio_id'])\n",
    "    \n",
    "    current_filename = None\n",
    "    current_signal = None\n",
    "    for index, row in df.iterrows():\n",
    "        row_id = row['row_id']\n",
    "        filename = row['audio_id']\n",
    "        site = row['site']\n",
    "        file = audio_dir + filename + '.mp3'\n",
    "        \n",
    "        if current_filename != filename:\n",
    "            current_filename = filename\n",
    "            current_signal = load_audio(file)\n",
    "\n",
    "        if site == 'site_3':\n",
    "            images = file_to_imgs(current_signal, size=324)\n",
    "        else:\n",
    "            starting_index = (row['seconds'] - 5)*sr\n",
    "            signal = current_signal[int(starting_index):int(starting_index + 5*sr)]\n",
    "            images = file_to_imgs(signal)\n",
    "           \n",
    "        preds = predict_imgs(net, class_names, images, threshold=threshold)\n",
    "        row_ids.append(row_id)\n",
    "        birds.append(preds)\n",
    "        \n",
    "    return pd.DataFrame({\n",
    "        'row_id': row_ids,\n",
    "        'birds': list(map(lambda x: 'nocall' if len(x) == 0 else ' '.join(x), birds))\n",
    "    })"
   ]
  },
  {
   "cell_type": "code",
   "execution_count": 18,
   "metadata": {
    "_kg_hide-output": true,
    "execution": {
     "iopub.execute_input": "2020-09-15T05:02:18.354575Z",
     "iopub.status.busy": "2020-09-15T05:02:18.353815Z",
     "iopub.status.idle": "2020-09-15T05:02:57.954888Z",
     "shell.execute_reply": "2020-09-15T05:02:57.954414Z"
    },
    "papermill": {
     "duration": 39.635534,
     "end_time": "2020-09-15T05:02:57.954994",
     "exception": false,
     "start_time": "2020-09-15T05:02:18.319460",
     "status": "completed"
    },
    "tags": []
   },
   "outputs": [],
   "source": [
    "import warnings\n",
    "warnings.filterwarnings('ignore')\n",
    "\n",
    "try:\n",
    "    sub_df = predict(test_folder='birdsong-recognition', threshold=0.875)\n",
    "except:\n",
    "    sub_df = predict(test_folder='birdcall-check', threshold=0.875)"
   ]
  },
  {
   "cell_type": "code",
   "execution_count": 19,
   "metadata": {
    "execution": {
     "iopub.execute_input": "2020-09-15T05:02:58.017932Z",
     "iopub.status.busy": "2020-09-15T05:02:58.017073Z",
     "iopub.status.idle": "2020-09-15T05:02:58.076525Z",
     "shell.execute_reply": "2020-09-15T05:02:58.075915Z"
    },
    "papermill": {
     "duration": 0.092162,
     "end_time": "2020-09-15T05:02:58.076637",
     "exception": false,
     "start_time": "2020-09-15T05:02:57.984475",
     "status": "completed"
    },
    "tags": []
   },
   "outputs": [],
   "source": [
    "sub_df.to_csv('submission.csv', index=False)"
   ]
  },
  {
   "cell_type": "code",
   "execution_count": 20,
   "metadata": {
    "execution": {
     "iopub.execute_input": "2020-09-15T05:02:58.138264Z",
     "iopub.status.busy": "2020-09-15T05:02:58.136775Z",
     "iopub.status.idle": "2020-09-15T05:02:58.138907Z",
     "shell.execute_reply": "2020-09-15T05:02:58.139859Z"
    },
    "papermill": {
     "duration": 0.034977,
     "end_time": "2020-09-15T05:02:58.139970",
     "exception": false,
     "start_time": "2020-09-15T05:02:58.104993",
     "status": "completed"
    },
    "tags": []
   },
   "outputs": [],
   "source": [
    "# sub_df.shape"
   ]
  },
  {
   "cell_type": "code",
   "execution_count": 21,
   "metadata": {
    "execution": {
     "iopub.execute_input": "2020-09-15T05:02:58.202068Z",
     "iopub.status.busy": "2020-09-15T05:02:58.200419Z",
     "iopub.status.idle": "2020-09-15T05:02:58.202739Z",
     "shell.execute_reply": "2020-09-15T05:02:58.203146Z"
    },
    "papermill": {
     "duration": 0.034814,
     "end_time": "2020-09-15T05:02:58.203289",
     "exception": false,
     "start_time": "2020-09-15T05:02:58.168475",
     "status": "completed"
    },
    "tags": []
   },
   "outputs": [],
   "source": [
    "# sub_df = sub_df.sort_values(by=['row_id']).reset_index(drop=True)\n",
    "# sample_sub = pd.read_csv('../input/birdpred/mock_submission.csv').sort_values(by=['row_id']).reset_index(drop=True)\n",
    "# sum(sub_df['birds'] != sample_sub['birds'])"
   ]
  },
  {
   "cell_type": "code",
   "execution_count": 22,
   "metadata": {
    "execution": {
     "iopub.execute_input": "2020-09-15T05:02:58.263417Z",
     "iopub.status.busy": "2020-09-15T05:02:58.262814Z",
     "iopub.status.idle": "2020-09-15T05:02:58.266684Z",
     "shell.execute_reply": "2020-09-15T05:02:58.266249Z"
    },
    "papermill": {
     "duration": 0.034975,
     "end_time": "2020-09-15T05:02:58.266766",
     "exception": false,
     "start_time": "2020-09-15T05:02:58.231791",
     "status": "completed"
    },
    "tags": []
   },
   "outputs": [],
   "source": [
    "# sub_df[sub_df['birds'] != sample_sub['birds']]"
   ]
  },
  {
   "cell_type": "code",
   "execution_count": 23,
   "metadata": {
    "execution": {
     "iopub.execute_input": "2020-09-15T05:02:58.328498Z",
     "iopub.status.busy": "2020-09-15T05:02:58.326783Z",
     "iopub.status.idle": "2020-09-15T05:02:58.329175Z",
     "shell.execute_reply": "2020-09-15T05:02:58.329615Z"
    },
    "papermill": {
     "duration": 0.034394,
     "end_time": "2020-09-15T05:02:58.329714",
     "exception": false,
     "start_time": "2020-09-15T05:02:58.295320",
     "status": "completed"
    },
    "tags": []
   },
   "outputs": [],
   "source": [
    "# sample_sub[sub_df['birds'] != sample_sub['birds']]"
   ]
  },
  {
   "cell_type": "code",
   "execution_count": null,
   "metadata": {
    "papermill": {
     "duration": 0.028461,
     "end_time": "2020-09-15T05:02:58.386934",
     "exception": false,
     "start_time": "2020-09-15T05:02:58.358473",
     "status": "completed"
    },
    "tags": []
   },
   "outputs": [],
   "source": []
  }
 ],
 "metadata": {
  "kernelspec": {
   "display_name": "Python 3",
   "language": "python",
   "name": "python3"
  },
  "language_info": {
   "codemirror_mode": {
    "name": "ipython",
    "version": 3
   },
   "file_extension": ".py",
   "mimetype": "text/x-python",
   "name": "python",
   "nbconvert_exporter": "python",
   "pygments_lexer": "ipython3",
   "version": "3.7.6"
  },
  "papermill": {
   "duration": 133.945334,
   "end_time": "2020-09-15T05:02:59.684422",
   "environment_variables": {},
   "exception": null,
   "input_path": "__notebook__.ipynb",
   "output_path": "__notebook__.ipynb",
   "parameters": {},
   "start_time": "2020-09-15T05:00:45.739088",
   "version": "2.1.0"
  }
 },
 "nbformat": 4,
 "nbformat_minor": 4
}
